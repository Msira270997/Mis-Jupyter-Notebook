{
 "cells": [
  {
   "cell_type": "markdown",
   "metadata": {},
   "source": [
    "# Curso de Numpy\n",
    "## Numpy en una dimensión"
   ]
  },
  {
   "cell_type": "code",
   "execution_count": 5,
   "metadata": {},
   "outputs": [],
   "source": [
    "import pandas as pd\n",
    "import numpy as np\n",
    "import matplotlib.pyplot as plt"
   ]
  },
  {
   "cell_type": "markdown",
   "metadata": {},
   "source": [
    "### Como crear un array Nunpy\n",
    "Un array numpy es similar a una lista de python. Normalmente es de tamaño fijo y cada elemento es del mismo tipo, en este caso enteros."
   ]
  },
  {
   "cell_type": "code",
   "execution_count": null,
   "metadata": {},
   "outputs": [],
   "source": [
    "# Convertimos una lista en un array de la siguiente manera\n",
    "\n",
    "a = np.array([0,1,2,3,4])"
   ]
  },
  {
   "cell_type": "markdown",
   "metadata": {},
   "source": [
    "Podemos acceder a los datos mediante un indice, tal como con las listas."
   ]
  },
  {
   "cell_type": "code",
   "execution_count": null,
   "metadata": {},
   "outputs": [],
   "source": [
    "a[2]"
   ]
  },
  {
   "cell_type": "code",
   "execution_count": null,
   "metadata": {},
   "outputs": [],
   "source": [
    "type(a)"
   ]
  },
  {
   "cell_type": "code",
   "execution_count": null,
   "metadata": {},
   "outputs": [],
   "source": [
    "a.dtype"
   ]
  },
  {
   "cell_type": "markdown",
   "metadata": {},
   "source": [
    "### Atributo .size\n",
    "Es el numero de elementos del array."
   ]
  },
  {
   "cell_type": "code",
   "execution_count": null,
   "metadata": {},
   "outputs": [],
   "source": [
    "a.size"
   ]
  },
  {
   "cell_type": "markdown",
   "metadata": {},
   "source": [
    "### Atributo .ndim\n",
    "Representa el numero de dimensiones del array. Este atributo tendra mas sentido cuando lleguemos a dimensiones mayores."
   ]
  },
  {
   "cell_type": "code",
   "execution_count": null,
   "metadata": {},
   "outputs": [],
   "source": [
    "a.ndim"
   ]
  },
  {
   "cell_type": "markdown",
   "metadata": {},
   "source": [
    "### Atributo .shape\n",
    "Es una tupla de numeros enteros que indican el tamaño del conjunto en cada dimension, en columnas y filas. Este atributo tendra mas sentido cuando lleguemos a dimensiones mayores."
   ]
  },
  {
   "cell_type": "code",
   "execution_count": null,
   "metadata": {},
   "outputs": [],
   "source": [
    "a.shape"
   ]
  },
  {
   "cell_type": "code",
   "execution_count": null,
   "metadata": {},
   "outputs": [],
   "source": [
    "# Vamos a crear un array con numeros reales\n",
    "\n",
    "b = np.array([3.1, 9.5, 4.6, 131.54, 16.45])\n",
    "type(b)"
   ]
  },
  {
   "cell_type": "code",
   "execution_count": null,
   "metadata": {},
   "outputs": [],
   "source": [
    "b.dtype"
   ]
  },
  {
   "cell_type": "markdown",
   "metadata": {},
   "source": [
    "### Indexacion y Division"
   ]
  },
  {
   "cell_type": "code",
   "execution_count": null,
   "metadata": {},
   "outputs": [],
   "source": [
    "c = np.array([20,1,2,3,4])\n",
    "c"
   ]
  },
  {
   "cell_type": "code",
   "execution_count": null,
   "metadata": {},
   "outputs": [],
   "source": [
    "# Podemos cambiar el primer elemento de la siguiente manera\n",
    "\n",
    "c[0] = 100\n",
    "c"
   ]
  },
  {
   "cell_type": "markdown",
   "metadata": {},
   "source": [
    "Al igual que con las listas y las tuplas podemos dividir un array de numpy. Podemos seleccionar los elementos de uno a tres y asignarlos a un nuevo array NumPy \"d\" de la siguiente manera."
   ]
  },
  {
   "cell_type": "code",
   "execution_count": null,
   "metadata": {},
   "outputs": [],
   "source": [
    "d = c[1:4]\n",
    "d"
   ]
  },
  {
   "cell_type": "code",
   "execution_count": null,
   "metadata": {},
   "outputs": [],
   "source": [
    "# Podemos asignar los índices correspondientes a los nuevos valores de la siguiente manera.\n",
    "\n",
    "c[3:5] = 300, 400\n",
    "c"
   ]
  },
  {
   "cell_type": "markdown",
   "metadata": {},
   "source": [
    "### Operaciones basicas\n",
    "NumPy facilita la realización de muchas operaciones que se realizan comúnmente en ciencia de datos. Las mismas operaciones suelen ser más rápidas desde el punto de vista computacional y requieren menos memoria en NumPy en comparación con el Python normal. Revisemos algunas de estas operaciones en arrays unidimensionales. Veremos muchas de las operaciones en el contexto de los vectores euclidianos para hacer las cosas más interesantes."
   ]
  },
  {
   "cell_type": "markdown",
   "metadata": {},
   "source": [
    "### Suma de vectores"
   ]
  },
  {
   "cell_type": "code",
   "execution_count": null,
   "metadata": {},
   "outputs": [],
   "source": [
    "# En las siguientes tres líneas de código sumaremos las dos listas y pondremos el resultado en la lista \"z\".\n",
    "\n",
    "u = [1,0]\n",
    "v = [1,0]\n",
    "z = []\n",
    "\n",
    "for m,n in zip(u,v):\n",
    "    z.append(m+n)\n",
    "\n",
    "z"
   ]
  },
  {
   "cell_type": "markdown",
   "metadata": {},
   "source": [
    "También podemos realizar la adición de vectores con una línea de código NumPy."
   ]
  },
  {
   "cell_type": "code",
   "execution_count": null,
   "metadata": {},
   "outputs": [],
   "source": [
    "u = np.array([1,0])\n",
    "v = np.array([0,1])\n",
    "\n",
    "z = u+v\n",
    "z"
   ]
  },
  {
   "cell_type": "markdown",
   "metadata": {},
   "source": [
    "### Resta de vectores\n",
    "También podemos realizar la substracción vectorial cambiando el signo de adición por un signo de resta."
   ]
  },
  {
   "cell_type": "code",
   "execution_count": null,
   "metadata": {},
   "outputs": [],
   "source": [
    "u = np.array([1,0])\n",
    "v = np.array([0,1])\n",
    "\n",
    "z = u-v\n",
    "z"
   ]
  },
  {
   "cell_type": "markdown",
   "metadata": {},
   "source": [
    "### Multiplicacion de un vector por un escalar"
   ]
  },
  {
   "cell_type": "code",
   "execution_count": null,
   "metadata": {},
   "outputs": [],
   "source": [
    "y = np.array([1,2])\n",
    "z = 2*y\n",
    "z"
   ]
  },
  {
   "cell_type": "markdown",
   "metadata": {},
   "source": [
    "### Producto de dos numpy arrays o Producto Hadamard\n",
    "Consideremos los dos vectores siguientes, \"u\" y \"v\". El producto hadamard de \"u\" y \"v\" es un nuevo vector \"z\". El primer componente de \"z\" es el producto del primer elemento de \"u\" y \"v\". Análogamente, el segundo componente es el producto del segundo elemento de \"u\" y \"v\". El vector resultante consiste en el producto Entrywise de \"u\" y \"v\"."
   ]
  },
  {
   "cell_type": "code",
   "execution_count": null,
   "metadata": {},
   "outputs": [],
   "source": [
    "u = np.array([1,2])\n",
    "v = np.array([3,2])\n",
    "\n",
    "z = u*v\n",
    "z"
   ]
  },
  {
   "cell_type": "markdown",
   "metadata": {},
   "source": [
    "### Producto punto (dot) o Producto escalar\n",
    "Consideremos el vector \"u\" y \"v\", el producto dot es un número único dado por el siguiente término y representa cuán similares son dos vectores. Multiplicamos el primer componente de \"v\" y \"u\", luego multiplicamos el segundo componente y sumamos el resultado. El resultado es un número que representa lo similares que son los dos vectores."
   ]
  },
  {
   "cell_type": "code",
   "execution_count": null,
   "metadata": {},
   "outputs": [],
   "source": [
    "u = np.array([1,2])\n",
    "v = np.array([3,1])\n",
    "\n",
    "result = np.dot(u,v)\n",
    "result"
   ]
  },
  {
   "cell_type": "markdown",
   "metadata": {},
   "source": [
    "Consideremos el array \"u\", el array contiene los siguientes elementos."
   ]
  },
  {
   "cell_type": "code",
   "execution_count": null,
   "metadata": {},
   "outputs": [],
   "source": [
    "u = np.array([1,2,3,-1])"
   ]
  },
  {
   "cell_type": "markdown",
   "metadata": {},
   "source": [
    "Si sumamos un valor escalar al array, NumPy sumará ese valor a cada elemento. Esta propiedad se conoce como difusión (broadcasting)."
   ]
  },
  {
   "cell_type": "code",
   "execution_count": null,
   "metadata": {},
   "outputs": [],
   "source": [
    "z = u+1\n",
    "z"
   ]
  },
  {
   "cell_type": "markdown",
   "metadata": {},
   "source": [
    "### Funciones universales\n",
    "Una función universal es una función que realiza operaciones en los arrays ND. Podemos aplicar una función universal a un array NumPy."
   ]
  },
  {
   "cell_type": "markdown",
   "metadata": {},
   "source": [
    "### Metodo .mean()"
   ]
  },
  {
   "cell_type": "code",
   "execution_count": null,
   "metadata": {},
   "outputs": [],
   "source": [
    "# Consideremos el array \"a\", podemos calcular el valor medio o promedio de todos los elementos en a usando el método mean. Esto corresponde a la media de todos los elementos.\n",
    "\n",
    "a = np.array([1,-1,1,-1])\n",
    "mean_a = a.mean()\n",
    "mean_a"
   ]
  },
  {
   "cell_type": "markdown",
   "metadata": {},
   "source": [
    "### Metodo .max()"
   ]
  },
  {
   "cell_type": "code",
   "execution_count": null,
   "metadata": {},
   "outputs": [],
   "source": [
    "# Podemos encontrar el valor máximo usando el método .max.\n",
    "\n",
    "b = np.array([1,-2,3,4,5])\n",
    "max_b = b.max()\n",
    "max_b"
   ]
  },
  {
   "cell_type": "markdown",
   "metadata": {},
   "source": [
    "Podemos usar NumPy para crear funciones que asignen los arrays de NumPy a nuevos arrays de NumPy."
   ]
  },
  {
   "cell_type": "code",
   "execution_count": null,
   "metadata": {},
   "outputs": [],
   "source": [
    "# Podemos acceder al valor de pi en NumPy de la siguiente manera.\n",
    "\n",
    "np.pi"
   ]
  },
  {
   "cell_type": "code",
   "execution_count": null,
   "metadata": {},
   "outputs": [],
   "source": [
    "# Podemos crear el siguiente array de NumPy en radianes.\n",
    "\n",
    "x = np.array([0, np.pi/2, np.pi])\n",
    "x"
   ]
  },
  {
   "cell_type": "markdown",
   "metadata": {},
   "source": [
    "Este array corresponde al siguiente vector. x = [0, π/2, π]"
   ]
  },
  {
   "cell_type": "markdown",
   "metadata": {},
   "source": [
    "### Metodo .sin()"
   ]
  },
  {
   "cell_type": "code",
   "execution_count": null,
   "metadata": {},
   "outputs": [],
   "source": [
    "# Podemos aplicar la función sin al array \"x\" y asignar los valores a la matriz \"y\"\n",
    "\n",
    "y = np.sin(x)\n",
    "y"
   ]
  },
  {
   "cell_type": "markdown",
   "metadata": {},
   "source": [
    "Esto aplica la función seno a cada elemento del array, esto corresponde a aplicar la función seno a cada componente del vector. El resultado es un nuevo array \"y\", en el que cada valor corresponde a una función seno que se aplica a cada elemento del array x. y = [sin(0), sin(π/2), sin(π)] que seria igual y = [0,1,0]"
   ]
  },
  {
   "cell_type": "markdown",
   "metadata": {},
   "source": [
    "### Metodo .linspace()\n",
    "Linspace devuelve números espaciados uniformemente a lo largo de un intervalo especificado. Especificamos el punto de inicio de la secuencia, el punto final de la secuencia. El parámetro num indica el número de muestras a generar, en este caso cinco."
   ]
  },
  {
   "cell_type": "code",
   "execution_count": null,
   "metadata": {},
   "outputs": [],
   "source": [
    "np.linspace(-2,2, num = 5)"
   ]
  },
  {
   "cell_type": "code",
   "execution_count": null,
   "metadata": {},
   "outputs": [],
   "source": [
    "np.linspace(-2,2, num = 9)"
   ]
  },
  {
   "cell_type": "markdown",
   "metadata": {},
   "source": [
    "El resultado es que la diferencia entre las muestras subsiguientes es de 0,5 en lugar de uno como antes."
   ]
  },
  {
   "cell_type": "markdown",
   "metadata": {},
   "source": [
    "Podemos utilizar la función linspace para generar 100 muestras espaciadas uniformemente desde el intervalo cero a 2 pi."
   ]
  },
  {
   "cell_type": "code",
   "execution_count": null,
   "metadata": {},
   "outputs": [],
   "source": [
    "x = np.linspace(0, 2*np.pi, 100)\n",
    "x"
   ]
  },
  {
   "cell_type": "markdown",
   "metadata": {},
   "source": [
    "Podemos usar la función seno de NumPy para mapear el array \"x\" a un nuevo array \"y\"."
   ]
  },
  {
   "cell_type": "code",
   "execution_count": null,
   "metadata": {},
   "outputs": [],
   "source": [
    "y = np.sin(x)"
   ]
  },
  {
   "cell_type": "markdown",
   "metadata": {},
   "source": [
    "Podemos importar la librería pyplot como plt para ayudarnos a dibujar la función. Como estamos usando un cuaderno Júpiter, usamos el comando matplotlib de manera inline para mostrar el trazado."
   ]
  },
  {
   "cell_type": "code",
   "execution_count": null,
   "metadata": {},
   "outputs": [],
   "source": [
    "%matplotlib inline"
   ]
  },
  {
   "cell_type": "markdown",
   "metadata": {},
   "source": [
    "El siguiente comando traza un gráfico. La primera entrada corresponde a los valores del eje horizontal o \"x\". La segunda entrada corresponde a los valores para el eje vertical o \"y\"."
   ]
  },
  {
   "cell_type": "code",
   "execution_count": null,
   "metadata": {},
   "outputs": [],
   "source": [
    "plt.plot(x,y)"
   ]
  },
  {
   "cell_type": "markdown",
   "metadata": {},
   "source": [
    "## Numpy en dos dimensiones"
   ]
  },
  {
   "cell_type": "code",
   "execution_count": null,
   "metadata": {},
   "outputs": [],
   "source": [
    "a = [[11,12,13],[21,22,23],[31,32,33]]\n",
    "A = np.array(a)\n",
    "print(A)"
   ]
  },
  {
   "cell_type": "code",
   "execution_count": null,
   "metadata": {},
   "outputs": [],
   "source": [
    "# Podemos usar el atributo ndim para obtener el número de ejes o dimensiones, que se denomina rango.\n",
    "\n",
    "A.ndim"
   ]
  },
  {
   "cell_type": "markdown",
   "metadata": {},
   "source": [
    "Es útil pensar en ndim como el número de listas anidadas. La primera lista representa la primera dimensión. Esta lista contiene otro conjunto de listas. Esta representa la segunda dimensión o eje. El número de listas que contiene la lista no tiene que ver con la dimensión sino con la forma de la lista."
   ]
  },
  {
   "cell_type": "code",
   "execution_count": null,
   "metadata": {},
   "outputs": [],
   "source": [
    "#  Al igual que en un array 1D, el atributo \"shape\" devuelve una tupla.\n",
    "\n",
    "A.shape"
   ]
  },
  {
   "cell_type": "markdown",
   "metadata": {},
   "source": [
    "El primer elemento de la tupla corresponde al número de listas anidadas contenidas en la lista original o al número de filas en la representación rectangular, en este caso tres.\n",
    "El segundo elemento corresponde al tamaño de cada una de las listas anidadas o al número de columnas del array rectangular cero."
   ]
  },
  {
   "cell_type": "code",
   "execution_count": null,
   "metadata": {},
   "outputs": [],
   "source": [
    "# También podemos usar el atributo \"size\" para obtener el tamaño del array.\n",
    "\n",
    "A.size"
   ]
  },
  {
   "cell_type": "markdown",
   "metadata": {},
   "source": [
    "Podemos usar corchetes para acceder a los diferentes elementos del array. Utilizando la representación rectangular, el primer índice corresponde al índice de la fila. El segundo índice corresponde al índice de la columna."
   ]
  },
  {
   "cell_type": "code",
   "execution_count": null,
   "metadata": {},
   "outputs": [],
   "source": [
    "A[1][1]"
   ]
  },
  {
   "cell_type": "markdown",
   "metadata": {},
   "source": [
    "También podemos utilizar la división en arrays de Numpy. El primer índice corresponde a la primera fila. El segundo índice accede a las dos primeras columnas."
   ]
  },
  {
   "cell_type": "code",
   "execution_count": null,
   "metadata": {},
   "outputs": [],
   "source": [
    "A[0,0:2]"
   ]
  },
  {
   "cell_type": "code",
   "execution_count": null,
   "metadata": {},
   "outputs": [],
   "source": [
    "A[0:2,2]"
   ]
  },
  {
   "cell_type": "markdown",
   "metadata": {},
   "source": [
    "### Suma de arrays\n",
    "También podemos sumar arrays, el proceso es idéntico a la suma de matrices. Esto corresponde a la suma de los elementos que están en la misma posición."
   ]
  },
  {
   "cell_type": "code",
   "execution_count": null,
   "metadata": {},
   "outputs": [],
   "source": [
    "x = np.array([[1,0],[0,1]])\n",
    "y = np.array([[2,1],[1,2]])\n",
    "\n",
    "print(x)\n",
    "print(y)\n",
    "print(x + y)"
   ]
  },
  {
   "cell_type": "markdown",
   "metadata": {},
   "source": [
    "El resultado es una nueva matriz que tiene el mismo tamaño que la matriz Y o X. Cada elemento de esta nueva matriz es la suma de los elementos correspondientes en X e Y."
   ]
  },
  {
   "cell_type": "markdown",
   "metadata": {},
   "source": [
    "### Multiplicacion de un array por un escalar\n",
    "Multiplicar un array de Numpy por un escalar es idéntico a multiplicar una matriz por un escalar. Consideremos la matriz Y. Si multiplicamos la matriz por este escalar dos, simplemente multiplicamos cada elemento de la matriz por dos."
   ]
  },
  {
   "cell_type": "code",
   "execution_count": null,
   "metadata": {},
   "outputs": [],
   "source": [
    "2*y"
   ]
  },
  {
   "cell_type": "markdown",
   "metadata": {},
   "source": [
    "El resultado es una nueva matriz o array del mismo tamaño donde cada elemento se multiplica por dos."
   ]
  },
  {
   "cell_type": "markdown",
   "metadata": {},
   "source": [
    "### Producto de dos arrays\n",
    "La multiplicación de dos arrays corresponde a un producto por elemento, o producto Hadamard."
   ]
  },
  {
   "cell_type": "code",
   "execution_count": null,
   "metadata": {},
   "outputs": [],
   "source": [
    "x*y"
   ]
  },
  {
   "cell_type": "markdown",
   "metadata": {},
   "source": [
    "El resultado es una nueva matriz del mismo tamaño que la matriz Y o X. Cada elemento de esta nueva matriz es el producto de los elementos correspondientes en X e Y."
   ]
  },
  {
   "cell_type": "markdown",
   "metadata": {},
   "source": [
    "### Producto escalar de dos matrices\n",
    "La multiplicación de matrices es un poco más compleja pero vamos a dar una visión general básica. Consideremos la matriz A y la matriz B."
   ]
  },
  {
   "cell_type": "code",
   "execution_count": null,
   "metadata": {},
   "outputs": [],
   "source": [
    "A = np.array([[0,1,1],[1,0,1]])\n",
    "B = np.array([[1,1],[1,1],[-1,1]])\n",
    "\n",
    "A, B"
   ]
  },
  {
   "cell_type": "markdown",
   "metadata": {},
   "source": [
    "En álgebra lineal, antes de multiplicar la matriz A por la matriz B, debemos asegurarnos de que el número de columnas de la matriz A, en este caso tres, es igual al número de filas de la matriz B, en este caso tres."
   ]
  },
  {
   "cell_type": "markdown",
   "metadata": {},
   "source": [
    "De la multiplicación de la matriz, para obtener la fila i-ésima y la columna j-ésima de la nueva matriz, tomamos el producto dot de la fila i-ésima de A con las columnas j-ésimas de B. Es decir, primera fila de A con primera columna de B, despues primera fila de A con la segunda columna de B, luego la segunda fila de A con la primera columna de B, y por ultimo la segunda fila de A con la segunda columna de B."
   ]
  },
  {
   "cell_type": "code",
   "execution_count": null,
   "metadata": {},
   "outputs": [],
   "source": [
    "C = np.dot(A, B)\n",
    "C"
   ]
  },
  {
   "cell_type": "markdown",
   "metadata": {},
   "source": [
    "Para la primera columna, primera fila, tomamos el producto dot de la primera fila de A con la primera columna de B como sigue: 0x1 + 1x1 + 1x-1 = 0 el resultado es 0."
   ]
  },
  {
   "cell_type": "markdown",
   "metadata": {},
   "source": [
    "Para la primera fila y la segunda columna de la nueva matriz, tomamos el producto dot de la primera fila de la matriz A, pero esta vez utilizamos la segunda columna de la matriz B: 0x1 + 1x1 + 1x1 = 2 el resultado es dos."
   ]
  },
  {
   "cell_type": "markdown",
   "metadata": {},
   "source": [
    "Para la segunda fila y la primera columna de la nueva matriz, tomamos el producto dot de la segunda fila de la matriz A. Con la primera columna de la matriz B: 1x1 + 0x1 + 1x-1 = 0 el resultado es cero."
   ]
  },
  {
   "cell_type": "markdown",
   "metadata": {},
   "source": [
    "Finalmente, para la segunda fila y la segunda columna de la nueva matriz, tomamos el producto dot de la segunda fila de la matriz A con la segunda columna de la matriz B: 1x1 + 0x1 + 1x1 = 2 el resultado es dos."
   ]
  },
  {
   "cell_type": "markdown",
   "metadata": {},
   "source": [
    "## Interfaces de Programacion de Aplicaciones (APIs)\n",
    "Una API permite que dos elementos de software se comuniquen entre sí. Por ejemplo, tienes tu programa, tienes algunos datos, tienes otros componentes de software, utilizas la API para comunicarte con la API a través de entradas y salidas."
   ]
  },
  {
   "cell_type": "markdown",
   "metadata": {},
   "source": [
    "### API REST\n",
    "Las API REST son otro tipo de API muy popular. Te permiten comunicarte a través de Internet, pudiendo aprovechar recursos como almacenamiento, acceso a más datos, algoritmos de inteligencia artificial y mucho más. El RE significa representativo. La S significa estado. La T significa transferencia. En las API REST, tu programa se llama el cliente. La API se comunica con un servicio web al que llamas a través de Internet."
   ]
  },
  {
   "cell_type": "markdown",
   "metadata": {},
   "source": [
    "Hay un conjunto de reglas en cuanto a la comunicación, entrada o solicitud, y salida o respuesta. Tú o tu código se pueden considerar como un cliente. El servicio web se denomina recurso. El cliente encuentra el servicio a través de un punto final. El cliente envía solicitudes al recurso y la respuesta al cliente."
   ]
  },
  {
   "cell_type": "markdown",
   "metadata": {},
   "source": [
    "Los métodos HTTP son una forma de transmitir datos a través de Internet. Le decimos a las APIs REST qué hacer mediante el envío de una solicitud. La solicitud se comunica normalmente a través de un mensaje HTTP. El mensaje HTTP normalmente contiene un archivo adjunto. Contiene instrucciones sobre la operación que queremos que el servicio realice. Esta operación se transmite al servicio web a través de Internet. El servicio realiza la operación. De la misma manera, el servicio web devuelve una respuesta mediante un mensaje HTTP, donde la información suele devolver el archivo adjunto. Esta información se transmite de vuelta al cliente."
   ]
  },
  {
   "cell_type": "markdown",
   "metadata": {},
   "source": [
    "### NBA_API\n",
    "Los datos deportivos siempre están cambiando. Esta es una excelente aplicación de una API ya que puede actualizarse constantemente. Usaremos la nba_api de Swar Patel. La API siempre se actualiza desde los puntos finales en nba.com. Es fácil de usar, así que puedes centrarte en la tarea de recopilar datos."
   ]
  },
  {
   "cell_type": "markdown",
   "metadata": {},
   "source": [
    "En la nba_api, para hacer una solicitud de un equipo específico, es bastante simple. No necesitamos un archivo JSON. Todo lo que requerimos es una ID. Esta información se almacena localmente en la API."
   ]
  },
  {
   "cell_type": "code",
   "execution_count": 24,
   "metadata": {},
   "outputs": [],
   "source": [
    "# Importamos el módulo teams (equipos).\n",
    "\n",
    "from nba_api.stats.static import teams"
   ]
  },
  {
   "cell_type": "markdown",
   "metadata": {},
   "source": [
    "El método get_teams (obtener_equipos) devuelve una lista de diccionarios, que tienen las mismas claves pero los valores dependen del equipo. El ID clave del diccionario tiene como valor un identificador único para cada equipo."
   ]
  },
  {
   "cell_type": "code",
   "execution_count": 25,
   "metadata": {},
   "outputs": [
    {
     "data": {
      "text/plain": [
       "[{'id': 1610612737,\n",
       "  'full_name': 'Atlanta Hawks',\n",
       "  'abbreviation': 'ATL',\n",
       "  'nickname': 'Hawks',\n",
       "  'city': 'Atlanta',\n",
       "  'state': 'Atlanta',\n",
       "  'year_founded': 1949},\n",
       " {'id': 1610612738,\n",
       "  'full_name': 'Boston Celtics',\n",
       "  'abbreviation': 'BOS',\n",
       "  'nickname': 'Celtics',\n",
       "  'city': 'Boston',\n",
       "  'state': 'Massachusetts',\n",
       "  'year_founded': 1946},\n",
       " {'id': 1610612739,\n",
       "  'full_name': 'Cleveland Cavaliers',\n",
       "  'abbreviation': 'CLE',\n",
       "  'nickname': 'Cavaliers',\n",
       "  'city': 'Cleveland',\n",
       "  'state': 'Ohio',\n",
       "  'year_founded': 1970},\n",
       " {'id': 1610612740,\n",
       "  'full_name': 'New Orleans Pelicans',\n",
       "  'abbreviation': 'NOP',\n",
       "  'nickname': 'Pelicans',\n",
       "  'city': 'New Orleans',\n",
       "  'state': 'Louisiana',\n",
       "  'year_founded': 2002},\n",
       " {'id': 1610612741,\n",
       "  'full_name': 'Chicago Bulls',\n",
       "  'abbreviation': 'CHI',\n",
       "  'nickname': 'Bulls',\n",
       "  'city': 'Chicago',\n",
       "  'state': 'Illinois',\n",
       "  'year_founded': 1966}]"
      ]
     },
     "execution_count": 25,
     "metadata": {},
     "output_type": "execute_result"
    }
   ],
   "source": [
    "nba_teams = teams.get_teams()\n",
    "nba_teams[:5]"
   ]
  },
  {
   "cell_type": "markdown",
   "metadata": {},
   "source": [
    "Para facilitar las cosas, podemos convertir el diccionario en una tabla. Hare el codigo ejecutando primero linea por linea para entenderlo mejor y luego hare una funcion completa."
   ]
  },
  {
   "cell_type": "code",
   "execution_count": 26,
   "metadata": {},
   "outputs": [
    {
     "data": {
      "text/plain": [
       "dict_keys(['id', 'full_name', 'abbreviation', 'nickname', 'city', 'state', 'year_founded'])"
      ]
     },
     "execution_count": 26,
     "metadata": {},
     "output_type": "execute_result"
    }
   ],
   "source": [
    "# Aqui copiamos cada key (llave) del primer diccionario ya que las keys son iguales en cada diccionario (equipo).\n",
    "# La salida es una lista asi que hay que convertirlo en diccionario.\n",
    "\n",
    "keys = nba_teams[0].keys()\n",
    "keys"
   ]
  },
  {
   "cell_type": "code",
   "execution_count": 27,
   "metadata": {},
   "outputs": [
    {
     "data": {
      "text/plain": [
       "{'id': [],\n",
       " 'full_name': [],\n",
       " 'abbreviation': [],\n",
       " 'nickname': [],\n",
       " 'city': [],\n",
       " 'state': [],\n",
       " 'year_founded': []}"
      ]
     },
     "execution_count": 27,
     "metadata": {},
     "output_type": "execute_result"
    }
   ],
   "source": [
    "# Aqui creamos un diccionario general con todas las keys y value de cada equipo. Es como una plantilla.\n",
    "\n",
    "out_dict = {key:[] for key in keys}\n",
    "out_dict"
   ]
  },
  {
   "cell_type": "code",
   "execution_count": 28,
   "metadata": {},
   "outputs": [
    {
     "data": {
      "text/plain": [
       "dict_items([('id', []), ('full_name', []), ('abbreviation', []), ('nickname', []), ('city', []), ('state', []), ('year_founded', [])])"
      ]
     },
     "execution_count": 28,
     "metadata": {},
     "output_type": "execute_result"
    }
   ],
   "source": [
    "# El metodo .items() devuelve una lista que contiene tuplas en funcion de las keys y value\n",
    "\n",
    "out_dict.items()"
   ]
  },
  {
   "cell_type": "code",
   "execution_count": 29,
   "metadata": {},
   "outputs": [
    {
     "data": {
      "text/plain": [
       "[]"
      ]
     },
     "execution_count": 29,
     "metadata": {},
     "output_type": "execute_result"
    }
   ],
   "source": [
    "# En este codigo usamos el diccionario con una de las llaves, devuelve el valor de esa llave, en este caso una lista vacia.\n",
    "\n",
    "out_dict['id']"
   ]
  },
  {
   "cell_type": "code",
   "execution_count": 30,
   "metadata": {},
   "outputs": [
    {
     "data": {
      "text/plain": [
       "{'id': [1610612737,\n",
       "  1610612738,\n",
       "  1610612739,\n",
       "  1610612740,\n",
       "  1610612741,\n",
       "  1610612742,\n",
       "  1610612743,\n",
       "  1610612744,\n",
       "  1610612745,\n",
       "  1610612746,\n",
       "  1610612747,\n",
       "  1610612748,\n",
       "  1610612749,\n",
       "  1610612750,\n",
       "  1610612751,\n",
       "  1610612752,\n",
       "  1610612753,\n",
       "  1610612754,\n",
       "  1610612755,\n",
       "  1610612756,\n",
       "  1610612757,\n",
       "  1610612758,\n",
       "  1610612759,\n",
       "  1610612760,\n",
       "  1610612761,\n",
       "  1610612762,\n",
       "  1610612763,\n",
       "  1610612764,\n",
       "  1610612765,\n",
       "  1610612766],\n",
       " 'full_name': ['Atlanta Hawks',\n",
       "  'Boston Celtics',\n",
       "  'Cleveland Cavaliers',\n",
       "  'New Orleans Pelicans',\n",
       "  'Chicago Bulls',\n",
       "  'Dallas Mavericks',\n",
       "  'Denver Nuggets',\n",
       "  'Golden State Warriors',\n",
       "  'Houston Rockets',\n",
       "  'Los Angeles Clippers',\n",
       "  'Los Angeles Lakers',\n",
       "  'Miami Heat',\n",
       "  'Milwaukee Bucks',\n",
       "  'Minnesota Timberwolves',\n",
       "  'Brooklyn Nets',\n",
       "  'New York Knicks',\n",
       "  'Orlando Magic',\n",
       "  'Indiana Pacers',\n",
       "  'Philadelphia 76ers',\n",
       "  'Phoenix Suns',\n",
       "  'Portland Trail Blazers',\n",
       "  'Sacramento Kings',\n",
       "  'San Antonio Spurs',\n",
       "  'Oklahoma City Thunder',\n",
       "  'Toronto Raptors',\n",
       "  'Utah Jazz',\n",
       "  'Memphis Grizzlies',\n",
       "  'Washington Wizards',\n",
       "  'Detroit Pistons',\n",
       "  'Charlotte Hornets'],\n",
       " 'abbreviation': ['ATL',\n",
       "  'BOS',\n",
       "  'CLE',\n",
       "  'NOP',\n",
       "  'CHI',\n",
       "  'DAL',\n",
       "  'DEN',\n",
       "  'GSW',\n",
       "  'HOU',\n",
       "  'LAC',\n",
       "  'LAL',\n",
       "  'MIA',\n",
       "  'MIL',\n",
       "  'MIN',\n",
       "  'BKN',\n",
       "  'NYK',\n",
       "  'ORL',\n",
       "  'IND',\n",
       "  'PHI',\n",
       "  'PHX',\n",
       "  'POR',\n",
       "  'SAC',\n",
       "  'SAS',\n",
       "  'OKC',\n",
       "  'TOR',\n",
       "  'UTA',\n",
       "  'MEM',\n",
       "  'WAS',\n",
       "  'DET',\n",
       "  'CHA'],\n",
       " 'nickname': ['Hawks',\n",
       "  'Celtics',\n",
       "  'Cavaliers',\n",
       "  'Pelicans',\n",
       "  'Bulls',\n",
       "  'Mavericks',\n",
       "  'Nuggets',\n",
       "  'Warriors',\n",
       "  'Rockets',\n",
       "  'Clippers',\n",
       "  'Lakers',\n",
       "  'Heat',\n",
       "  'Bucks',\n",
       "  'Timberwolves',\n",
       "  'Nets',\n",
       "  'Knicks',\n",
       "  'Magic',\n",
       "  'Pacers',\n",
       "  '76ers',\n",
       "  'Suns',\n",
       "  'Trail Blazers',\n",
       "  'Kings',\n",
       "  'Spurs',\n",
       "  'Thunder',\n",
       "  'Raptors',\n",
       "  'Jazz',\n",
       "  'Grizzlies',\n",
       "  'Wizards',\n",
       "  'Pistons',\n",
       "  'Hornets'],\n",
       " 'city': ['Atlanta',\n",
       "  'Boston',\n",
       "  'Cleveland',\n",
       "  'New Orleans',\n",
       "  'Chicago',\n",
       "  'Dallas',\n",
       "  'Denver',\n",
       "  'Golden State',\n",
       "  'Houston',\n",
       "  'Los Angeles',\n",
       "  'Los Angeles',\n",
       "  'Miami',\n",
       "  'Milwaukee',\n",
       "  'Minnesota',\n",
       "  'Brooklyn',\n",
       "  'New York',\n",
       "  'Orlando',\n",
       "  'Indiana',\n",
       "  'Philadelphia',\n",
       "  'Phoenix',\n",
       "  'Portland',\n",
       "  'Sacramento',\n",
       "  'San Antonio',\n",
       "  'Oklahoma City',\n",
       "  'Toronto',\n",
       "  'Utah',\n",
       "  'Memphis',\n",
       "  'Washington',\n",
       "  'Detroit',\n",
       "  'Charlotte'],\n",
       " 'state': ['Atlanta',\n",
       "  'Massachusetts',\n",
       "  'Ohio',\n",
       "  'Louisiana',\n",
       "  'Illinois',\n",
       "  'Texas',\n",
       "  'Colorado',\n",
       "  'California',\n",
       "  'Texas',\n",
       "  'California',\n",
       "  'California',\n",
       "  'Florida',\n",
       "  'Wisconsin',\n",
       "  'Minnesota',\n",
       "  'New York',\n",
       "  'New York',\n",
       "  'Florida',\n",
       "  'Indiana',\n",
       "  'Pennsylvania',\n",
       "  'Arizona',\n",
       "  'Oregon',\n",
       "  'California',\n",
       "  'Texas',\n",
       "  'Oklahoma',\n",
       "  'Ontario',\n",
       "  'Utah',\n",
       "  'Tennessee',\n",
       "  'District of Columbia',\n",
       "  'Michigan',\n",
       "  'North Carolina'],\n",
       " 'year_founded': [1949,\n",
       "  1946,\n",
       "  1970,\n",
       "  2002,\n",
       "  1966,\n",
       "  1980,\n",
       "  1976,\n",
       "  1946,\n",
       "  1967,\n",
       "  1970,\n",
       "  1948,\n",
       "  1988,\n",
       "  1968,\n",
       "  1989,\n",
       "  1976,\n",
       "  1946,\n",
       "  1989,\n",
       "  1976,\n",
       "  1949,\n",
       "  1968,\n",
       "  1970,\n",
       "  1948,\n",
       "  1976,\n",
       "  1967,\n",
       "  1995,\n",
       "  1974,\n",
       "  1995,\n",
       "  1961,\n",
       "  1948,\n",
       "  1988]}"
      ]
     },
     "execution_count": 30,
     "metadata": {},
     "output_type": "execute_result"
    }
   ],
   "source": [
    "# Aqui transformamos la lista nba_teams en un diccionario o tabla con 7 colummnas\n",
    "\n",
    "for dict_ in nba_teams: # Bucle para pasar por cada diccionario dentro de la lista nba_teams\n",
    "    for key, value in dict_.items(): # Bucle para guardar cada llave y valor dentro de key y value ('id', 1610612737)\n",
    "        out_dict[key].append(value) # Como out_dict[key] devuelve una lista podemos usar el metodo .append() \n",
    "                                    # para agregar los valores.\n",
    "out_dict"
   ]
  },
  {
   "cell_type": "markdown",
   "metadata": {},
   "source": [
    "Ahora vamos a automatizar todo el proceso anterior, de manera que el codigo es mas efectivo y mas rapido."
   ]
  },
  {
   "cell_type": "code",
   "execution_count": 31,
   "metadata": {},
   "outputs": [],
   "source": [
    "# Primero, creamos la función one_dict.\n",
    "\n",
    "def one_dict(list_dict):\n",
    "    keys = list_dict[0].keys()\n",
    "    out_dict = {key:[] for key in keys}\n",
    "    for dict_ in list_dict:\n",
    "        for key, value in dict_.items():\n",
    "            out_dict[key].append(value)\n",
    "    return out_dict"
   ]
  },
  {
   "cell_type": "code",
   "execution_count": 32,
   "metadata": {},
   "outputs": [
    {
     "data": {
      "text/plain": [
       "{'id': [1610612737,\n",
       "  1610612738,\n",
       "  1610612739,\n",
       "  1610612740,\n",
       "  1610612741,\n",
       "  1610612742,\n",
       "  1610612743,\n",
       "  1610612744,\n",
       "  1610612745,\n",
       "  1610612746,\n",
       "  1610612747,\n",
       "  1610612748,\n",
       "  1610612749,\n",
       "  1610612750,\n",
       "  1610612751,\n",
       "  1610612752,\n",
       "  1610612753,\n",
       "  1610612754,\n",
       "  1610612755,\n",
       "  1610612756,\n",
       "  1610612757,\n",
       "  1610612758,\n",
       "  1610612759,\n",
       "  1610612760,\n",
       "  1610612761,\n",
       "  1610612762,\n",
       "  1610612763,\n",
       "  1610612764,\n",
       "  1610612765,\n",
       "  1610612766],\n",
       " 'full_name': ['Atlanta Hawks',\n",
       "  'Boston Celtics',\n",
       "  'Cleveland Cavaliers',\n",
       "  'New Orleans Pelicans',\n",
       "  'Chicago Bulls',\n",
       "  'Dallas Mavericks',\n",
       "  'Denver Nuggets',\n",
       "  'Golden State Warriors',\n",
       "  'Houston Rockets',\n",
       "  'Los Angeles Clippers',\n",
       "  'Los Angeles Lakers',\n",
       "  'Miami Heat',\n",
       "  'Milwaukee Bucks',\n",
       "  'Minnesota Timberwolves',\n",
       "  'Brooklyn Nets',\n",
       "  'New York Knicks',\n",
       "  'Orlando Magic',\n",
       "  'Indiana Pacers',\n",
       "  'Philadelphia 76ers',\n",
       "  'Phoenix Suns',\n",
       "  'Portland Trail Blazers',\n",
       "  'Sacramento Kings',\n",
       "  'San Antonio Spurs',\n",
       "  'Oklahoma City Thunder',\n",
       "  'Toronto Raptors',\n",
       "  'Utah Jazz',\n",
       "  'Memphis Grizzlies',\n",
       "  'Washington Wizards',\n",
       "  'Detroit Pistons',\n",
       "  'Charlotte Hornets'],\n",
       " 'abbreviation': ['ATL',\n",
       "  'BOS',\n",
       "  'CLE',\n",
       "  'NOP',\n",
       "  'CHI',\n",
       "  'DAL',\n",
       "  'DEN',\n",
       "  'GSW',\n",
       "  'HOU',\n",
       "  'LAC',\n",
       "  'LAL',\n",
       "  'MIA',\n",
       "  'MIL',\n",
       "  'MIN',\n",
       "  'BKN',\n",
       "  'NYK',\n",
       "  'ORL',\n",
       "  'IND',\n",
       "  'PHI',\n",
       "  'PHX',\n",
       "  'POR',\n",
       "  'SAC',\n",
       "  'SAS',\n",
       "  'OKC',\n",
       "  'TOR',\n",
       "  'UTA',\n",
       "  'MEM',\n",
       "  'WAS',\n",
       "  'DET',\n",
       "  'CHA'],\n",
       " 'nickname': ['Hawks',\n",
       "  'Celtics',\n",
       "  'Cavaliers',\n",
       "  'Pelicans',\n",
       "  'Bulls',\n",
       "  'Mavericks',\n",
       "  'Nuggets',\n",
       "  'Warriors',\n",
       "  'Rockets',\n",
       "  'Clippers',\n",
       "  'Lakers',\n",
       "  'Heat',\n",
       "  'Bucks',\n",
       "  'Timberwolves',\n",
       "  'Nets',\n",
       "  'Knicks',\n",
       "  'Magic',\n",
       "  'Pacers',\n",
       "  '76ers',\n",
       "  'Suns',\n",
       "  'Trail Blazers',\n",
       "  'Kings',\n",
       "  'Spurs',\n",
       "  'Thunder',\n",
       "  'Raptors',\n",
       "  'Jazz',\n",
       "  'Grizzlies',\n",
       "  'Wizards',\n",
       "  'Pistons',\n",
       "  'Hornets'],\n",
       " 'city': ['Atlanta',\n",
       "  'Boston',\n",
       "  'Cleveland',\n",
       "  'New Orleans',\n",
       "  'Chicago',\n",
       "  'Dallas',\n",
       "  'Denver',\n",
       "  'Golden State',\n",
       "  'Houston',\n",
       "  'Los Angeles',\n",
       "  'Los Angeles',\n",
       "  'Miami',\n",
       "  'Milwaukee',\n",
       "  'Minnesota',\n",
       "  'Brooklyn',\n",
       "  'New York',\n",
       "  'Orlando',\n",
       "  'Indiana',\n",
       "  'Philadelphia',\n",
       "  'Phoenix',\n",
       "  'Portland',\n",
       "  'Sacramento',\n",
       "  'San Antonio',\n",
       "  'Oklahoma City',\n",
       "  'Toronto',\n",
       "  'Utah',\n",
       "  'Memphis',\n",
       "  'Washington',\n",
       "  'Detroit',\n",
       "  'Charlotte'],\n",
       " 'state': ['Atlanta',\n",
       "  'Massachusetts',\n",
       "  'Ohio',\n",
       "  'Louisiana',\n",
       "  'Illinois',\n",
       "  'Texas',\n",
       "  'Colorado',\n",
       "  'California',\n",
       "  'Texas',\n",
       "  'California',\n",
       "  'California',\n",
       "  'Florida',\n",
       "  'Wisconsin',\n",
       "  'Minnesota',\n",
       "  'New York',\n",
       "  'New York',\n",
       "  'Florida',\n",
       "  'Indiana',\n",
       "  'Pennsylvania',\n",
       "  'Arizona',\n",
       "  'Oregon',\n",
       "  'California',\n",
       "  'Texas',\n",
       "  'Oklahoma',\n",
       "  'Ontario',\n",
       "  'Utah',\n",
       "  'Tennessee',\n",
       "  'District of Columbia',\n",
       "  'Michigan',\n",
       "  'North Carolina'],\n",
       " 'year_founded': [1949,\n",
       "  1946,\n",
       "  1970,\n",
       "  2002,\n",
       "  1966,\n",
       "  1980,\n",
       "  1976,\n",
       "  1946,\n",
       "  1967,\n",
       "  1970,\n",
       "  1948,\n",
       "  1988,\n",
       "  1968,\n",
       "  1989,\n",
       "  1976,\n",
       "  1946,\n",
       "  1989,\n",
       "  1976,\n",
       "  1949,\n",
       "  1968,\n",
       "  1970,\n",
       "  1948,\n",
       "  1976,\n",
       "  1967,\n",
       "  1995,\n",
       "  1974,\n",
       "  1995,\n",
       "  1961,\n",
       "  1948,\n",
       "  1988]}"
      ]
     },
     "execution_count": 32,
     "metadata": {},
     "output_type": "execute_result"
    }
   ],
   "source": [
    "# Llamamos a la funcion que acabamos de crear\n",
    "\n",
    "one_dict(nba_teams)"
   ]
  },
  {
   "cell_type": "markdown",
   "metadata": {},
   "source": [
    "Ya convertimos la lista con los datos de los jugadores en un diccionario, ahora vamos a convertir ese diccionario en un data frame."
   ]
  },
  {
   "cell_type": "code",
   "execution_count": 33,
   "metadata": {},
   "outputs": [
    {
     "data": {
      "text/html": [
       "<div>\n",
       "<style scoped>\n",
       "    .dataframe tbody tr th:only-of-type {\n",
       "        vertical-align: middle;\n",
       "    }\n",
       "\n",
       "    .dataframe tbody tr th {\n",
       "        vertical-align: top;\n",
       "    }\n",
       "\n",
       "    .dataframe thead th {\n",
       "        text-align: right;\n",
       "    }\n",
       "</style>\n",
       "<table border=\"1\" class=\"dataframe\">\n",
       "  <thead>\n",
       "    <tr style=\"text-align: right;\">\n",
       "      <th></th>\n",
       "      <th>id</th>\n",
       "      <th>full_name</th>\n",
       "      <th>abbreviation</th>\n",
       "      <th>nickname</th>\n",
       "      <th>city</th>\n",
       "      <th>state</th>\n",
       "      <th>year_founded</th>\n",
       "    </tr>\n",
       "  </thead>\n",
       "  <tbody>\n",
       "    <tr>\n",
       "      <th>0</th>\n",
       "      <td>1610612737</td>\n",
       "      <td>Atlanta Hawks</td>\n",
       "      <td>ATL</td>\n",
       "      <td>Hawks</td>\n",
       "      <td>Atlanta</td>\n",
       "      <td>Atlanta</td>\n",
       "      <td>1949</td>\n",
       "    </tr>\n",
       "    <tr>\n",
       "      <th>1</th>\n",
       "      <td>1610612738</td>\n",
       "      <td>Boston Celtics</td>\n",
       "      <td>BOS</td>\n",
       "      <td>Celtics</td>\n",
       "      <td>Boston</td>\n",
       "      <td>Massachusetts</td>\n",
       "      <td>1946</td>\n",
       "    </tr>\n",
       "    <tr>\n",
       "      <th>2</th>\n",
       "      <td>1610612739</td>\n",
       "      <td>Cleveland Cavaliers</td>\n",
       "      <td>CLE</td>\n",
       "      <td>Cavaliers</td>\n",
       "      <td>Cleveland</td>\n",
       "      <td>Ohio</td>\n",
       "      <td>1970</td>\n",
       "    </tr>\n",
       "    <tr>\n",
       "      <th>3</th>\n",
       "      <td>1610612740</td>\n",
       "      <td>New Orleans Pelicans</td>\n",
       "      <td>NOP</td>\n",
       "      <td>Pelicans</td>\n",
       "      <td>New Orleans</td>\n",
       "      <td>Louisiana</td>\n",
       "      <td>2002</td>\n",
       "    </tr>\n",
       "    <tr>\n",
       "      <th>4</th>\n",
       "      <td>1610612741</td>\n",
       "      <td>Chicago Bulls</td>\n",
       "      <td>CHI</td>\n",
       "      <td>Bulls</td>\n",
       "      <td>Chicago</td>\n",
       "      <td>Illinois</td>\n",
       "      <td>1966</td>\n",
       "    </tr>\n",
       "    <tr>\n",
       "      <th>5</th>\n",
       "      <td>1610612742</td>\n",
       "      <td>Dallas Mavericks</td>\n",
       "      <td>DAL</td>\n",
       "      <td>Mavericks</td>\n",
       "      <td>Dallas</td>\n",
       "      <td>Texas</td>\n",
       "      <td>1980</td>\n",
       "    </tr>\n",
       "    <tr>\n",
       "      <th>6</th>\n",
       "      <td>1610612743</td>\n",
       "      <td>Denver Nuggets</td>\n",
       "      <td>DEN</td>\n",
       "      <td>Nuggets</td>\n",
       "      <td>Denver</td>\n",
       "      <td>Colorado</td>\n",
       "      <td>1976</td>\n",
       "    </tr>\n",
       "    <tr>\n",
       "      <th>7</th>\n",
       "      <td>1610612744</td>\n",
       "      <td>Golden State Warriors</td>\n",
       "      <td>GSW</td>\n",
       "      <td>Warriors</td>\n",
       "      <td>Golden State</td>\n",
       "      <td>California</td>\n",
       "      <td>1946</td>\n",
       "    </tr>\n",
       "    <tr>\n",
       "      <th>8</th>\n",
       "      <td>1610612745</td>\n",
       "      <td>Houston Rockets</td>\n",
       "      <td>HOU</td>\n",
       "      <td>Rockets</td>\n",
       "      <td>Houston</td>\n",
       "      <td>Texas</td>\n",
       "      <td>1967</td>\n",
       "    </tr>\n",
       "    <tr>\n",
       "      <th>9</th>\n",
       "      <td>1610612746</td>\n",
       "      <td>Los Angeles Clippers</td>\n",
       "      <td>LAC</td>\n",
       "      <td>Clippers</td>\n",
       "      <td>Los Angeles</td>\n",
       "      <td>California</td>\n",
       "      <td>1970</td>\n",
       "    </tr>\n",
       "  </tbody>\n",
       "</table>\n",
       "</div>"
      ],
      "text/plain": [
       "           id              full_name abbreviation   nickname          city  \\\n",
       "0  1610612737          Atlanta Hawks          ATL      Hawks       Atlanta   \n",
       "1  1610612738         Boston Celtics          BOS    Celtics        Boston   \n",
       "2  1610612739    Cleveland Cavaliers          CLE  Cavaliers     Cleveland   \n",
       "3  1610612740   New Orleans Pelicans          NOP   Pelicans   New Orleans   \n",
       "4  1610612741          Chicago Bulls          CHI      Bulls       Chicago   \n",
       "5  1610612742       Dallas Mavericks          DAL  Mavericks        Dallas   \n",
       "6  1610612743         Denver Nuggets          DEN    Nuggets        Denver   \n",
       "7  1610612744  Golden State Warriors          GSW   Warriors  Golden State   \n",
       "8  1610612745        Houston Rockets          HOU    Rockets       Houston   \n",
       "9  1610612746   Los Angeles Clippers          LAC   Clippers   Los Angeles   \n",
       "\n",
       "           state  year_founded  \n",
       "0        Atlanta          1949  \n",
       "1  Massachusetts          1946  \n",
       "2           Ohio          1970  \n",
       "3      Louisiana          2002  \n",
       "4       Illinois          1966  \n",
       "5          Texas          1980  \n",
       "6       Colorado          1976  \n",
       "7     California          1946  \n",
       "8          Texas          1967  \n",
       "9     California          1970  "
      ]
     },
     "execution_count": 33,
     "metadata": {},
     "output_type": "execute_result"
    }
   ],
   "source": [
    "df_teams = pd.DataFrame(one_dict(nba_teams))\n",
    "df_teams.head(10)"
   ]
  },
  {
   "cell_type": "markdown",
   "metadata": {},
   "source": [
    "Usaremos el apodo (nickname) de los equipos para encontrar el ID únic\n",
    "o."
   ]
  },
  {
   "cell_type": "code",
   "execution_count": 34,
   "metadata": {},
   "outputs": [
    {
     "data": {
      "text/html": [
       "<div>\n",
       "<style scoped>\n",
       "    .dataframe tbody tr th:only-of-type {\n",
       "        vertical-align: middle;\n",
       "    }\n",
       "\n",
       "    .dataframe tbody tr th {\n",
       "        vertical-align: top;\n",
       "    }\n",
       "\n",
       "    .dataframe thead th {\n",
       "        text-align: right;\n",
       "    }\n",
       "</style>\n",
       "<table border=\"1\" class=\"dataframe\">\n",
       "  <thead>\n",
       "    <tr style=\"text-align: right;\">\n",
       "      <th></th>\n",
       "      <th>id</th>\n",
       "      <th>full_name</th>\n",
       "      <th>abbreviation</th>\n",
       "      <th>nickname</th>\n",
       "      <th>city</th>\n",
       "      <th>state</th>\n",
       "      <th>year_founded</th>\n",
       "    </tr>\n",
       "  </thead>\n",
       "  <tbody>\n",
       "    <tr>\n",
       "      <th>7</th>\n",
       "      <td>1610612744</td>\n",
       "      <td>Golden State Warriors</td>\n",
       "      <td>GSW</td>\n",
       "      <td>Warriors</td>\n",
       "      <td>Golden State</td>\n",
       "      <td>California</td>\n",
       "      <td>1946</td>\n",
       "    </tr>\n",
       "  </tbody>\n",
       "</table>\n",
       "</div>"
      ],
      "text/plain": [
       "           id              full_name abbreviation  nickname          city  \\\n",
       "7  1610612744  Golden State Warriors          GSW  Warriors  Golden State   \n",
       "\n",
       "        state  year_founded  \n",
       "7  California          1946  "
      ]
     },
     "execution_count": 34,
     "metadata": {},
     "output_type": "execute_result"
    }
   ],
   "source": [
    "#  Podemos encontrar la fila que contiene a los Warriors de la siguiente manera.\n",
    "\n",
    "df_warriors = df_teams[df_teams['nickname'] == 'Warriors']\n",
    "df_warriors"
   ]
  },
  {
   "cell_type": "markdown",
   "metadata": {},
   "source": [
    "El ID es la primera columna. Podemos usar la siguiente línea de código para acceder a la primera columna del DataFrame."
   ]
  },
  {
   "cell_type": "code",
   "execution_count": 35,
   "metadata": {},
   "outputs": [
    {
     "data": {
      "text/plain": [
       "1610612744"
      ]
     },
     "execution_count": 35,
     "metadata": {},
     "output_type": "execute_result"
    }
   ],
   "source": [
    "id_warriors = df_warriors[['id']].values[0][0]\n",
    "id_warriors"
   ]
  },
  {
   "cell_type": "markdown",
   "metadata": {},
   "source": [
    "Ahora tenemos un número entero que puede utilizarse para solicitar la información de los Warriors."
   ]
  },
  {
   "cell_type": "code",
   "execution_count": 36,
   "metadata": {},
   "outputs": [],
   "source": [
    "# La función \"Leaguegamefinder\", hará una llamada al API.\n",
    "\n",
    "from nba_api.stats.endpoints import leaguegamefinder"
   ]
  },
  {
   "cell_type": "code",
   "execution_count": 37,
   "metadata": {},
   "outputs": [],
   "source": [
    "# El parámetro team_id_nullable es el id único para los Warriors.\n",
    "\n",
    "gamefinder = leaguegamefinder.LeagueGameFinder(team_id_nullable = id_warriors)"
   ]
  },
  {
   "cell_type": "markdown",
   "metadata": {},
   "source": [
    "En su interior, la nba_api está haciendo una petición HTTP. Esto se transmite a nba.com. La información solicitada se proporciona y se transmite a través de una respuesta HTTP. Esto se asigna al objeto gamefinder. El objeto gamefinder tiene\n",
    "un método get_data_frame que devuelve un marco de datos."
   ]
  },
  {
   "cell_type": "code",
   "execution_count": 38,
   "metadata": {},
   "outputs": [
    {
     "data": {
      "text/html": [
       "<div>\n",
       "<style scoped>\n",
       "    .dataframe tbody tr th:only-of-type {\n",
       "        vertical-align: middle;\n",
       "    }\n",
       "\n",
       "    .dataframe tbody tr th {\n",
       "        vertical-align: top;\n",
       "    }\n",
       "\n",
       "    .dataframe thead th {\n",
       "        text-align: right;\n",
       "    }\n",
       "</style>\n",
       "<table border=\"1\" class=\"dataframe\">\n",
       "  <thead>\n",
       "    <tr style=\"text-align: right;\">\n",
       "      <th></th>\n",
       "      <th>SEASON_ID</th>\n",
       "      <th>TEAM_ID</th>\n",
       "      <th>TEAM_ABBREVIATION</th>\n",
       "      <th>TEAM_NAME</th>\n",
       "      <th>GAME_ID</th>\n",
       "      <th>GAME_DATE</th>\n",
       "      <th>MATCHUP</th>\n",
       "      <th>WL</th>\n",
       "      <th>MIN</th>\n",
       "      <th>PTS</th>\n",
       "      <th>...</th>\n",
       "      <th>FT_PCT</th>\n",
       "      <th>OREB</th>\n",
       "      <th>DREB</th>\n",
       "      <th>REB</th>\n",
       "      <th>AST</th>\n",
       "      <th>STL</th>\n",
       "      <th>BLK</th>\n",
       "      <th>TOV</th>\n",
       "      <th>PF</th>\n",
       "      <th>PLUS_MINUS</th>\n",
       "    </tr>\n",
       "  </thead>\n",
       "  <tbody>\n",
       "    <tr>\n",
       "      <th>0</th>\n",
       "      <td>22021</td>\n",
       "      <td>1610612744</td>\n",
       "      <td>GSW</td>\n",
       "      <td>Golden State Warriors</td>\n",
       "      <td>0022100376</td>\n",
       "      <td>2021-12-08</td>\n",
       "      <td>GSW vs. POR</td>\n",
       "      <td>W</td>\n",
       "      <td>241</td>\n",
       "      <td>104</td>\n",
       "      <td>...</td>\n",
       "      <td>0.774</td>\n",
       "      <td>10.0</td>\n",
       "      <td>37.0</td>\n",
       "      <td>47.0</td>\n",
       "      <td>22</td>\n",
       "      <td>9</td>\n",
       "      <td>3</td>\n",
       "      <td>15</td>\n",
       "      <td>19</td>\n",
       "      <td>10.0</td>\n",
       "    </tr>\n",
       "    <tr>\n",
       "      <th>1</th>\n",
       "      <td>22021</td>\n",
       "      <td>1610612744</td>\n",
       "      <td>GSW</td>\n",
       "      <td>Golden State Warriors</td>\n",
       "      <td>0022100361</td>\n",
       "      <td>2021-12-06</td>\n",
       "      <td>GSW vs. ORL</td>\n",
       "      <td>W</td>\n",
       "      <td>242</td>\n",
       "      <td>126</td>\n",
       "      <td>...</td>\n",
       "      <td>0.690</td>\n",
       "      <td>7.0</td>\n",
       "      <td>36.0</td>\n",
       "      <td>43.0</td>\n",
       "      <td>28</td>\n",
       "      <td>15</td>\n",
       "      <td>2</td>\n",
       "      <td>15</td>\n",
       "      <td>19</td>\n",
       "      <td>31.0</td>\n",
       "    </tr>\n",
       "    <tr>\n",
       "      <th>2</th>\n",
       "      <td>22021</td>\n",
       "      <td>1610612744</td>\n",
       "      <td>GSW</td>\n",
       "      <td>Golden State Warriors</td>\n",
       "      <td>0022100346</td>\n",
       "      <td>2021-12-04</td>\n",
       "      <td>GSW vs. SAS</td>\n",
       "      <td>L</td>\n",
       "      <td>240</td>\n",
       "      <td>107</td>\n",
       "      <td>...</td>\n",
       "      <td>0.667</td>\n",
       "      <td>11.0</td>\n",
       "      <td>34.0</td>\n",
       "      <td>45.0</td>\n",
       "      <td>26</td>\n",
       "      <td>6</td>\n",
       "      <td>2</td>\n",
       "      <td>12</td>\n",
       "      <td>18</td>\n",
       "      <td>-5.0</td>\n",
       "    </tr>\n",
       "    <tr>\n",
       "      <th>3</th>\n",
       "      <td>22021</td>\n",
       "      <td>1610612744</td>\n",
       "      <td>GSW</td>\n",
       "      <td>Golden State Warriors</td>\n",
       "      <td>0022100340</td>\n",
       "      <td>2021-12-03</td>\n",
       "      <td>GSW vs. PHX</td>\n",
       "      <td>W</td>\n",
       "      <td>239</td>\n",
       "      <td>118</td>\n",
       "      <td>...</td>\n",
       "      <td>0.750</td>\n",
       "      <td>11.0</td>\n",
       "      <td>40.0</td>\n",
       "      <td>51.0</td>\n",
       "      <td>30</td>\n",
       "      <td>10</td>\n",
       "      <td>8</td>\n",
       "      <td>17</td>\n",
       "      <td>29</td>\n",
       "      <td>22.0</td>\n",
       "    </tr>\n",
       "    <tr>\n",
       "      <th>4</th>\n",
       "      <td>22021</td>\n",
       "      <td>1610612744</td>\n",
       "      <td>GSW</td>\n",
       "      <td>Golden State Warriors</td>\n",
       "      <td>0022100316</td>\n",
       "      <td>2021-11-30</td>\n",
       "      <td>GSW @ PHX</td>\n",
       "      <td>L</td>\n",
       "      <td>240</td>\n",
       "      <td>96</td>\n",
       "      <td>...</td>\n",
       "      <td>0.714</td>\n",
       "      <td>15.0</td>\n",
       "      <td>36.0</td>\n",
       "      <td>51.0</td>\n",
       "      <td>25</td>\n",
       "      <td>7</td>\n",
       "      <td>5</td>\n",
       "      <td>22</td>\n",
       "      <td>13</td>\n",
       "      <td>-8.0</td>\n",
       "    </tr>\n",
       "  </tbody>\n",
       "</table>\n",
       "<p>5 rows × 28 columns</p>\n",
       "</div>"
      ],
      "text/plain": [
       "  SEASON_ID     TEAM_ID TEAM_ABBREVIATION              TEAM_NAME     GAME_ID  \\\n",
       "0     22021  1610612744               GSW  Golden State Warriors  0022100376   \n",
       "1     22021  1610612744               GSW  Golden State Warriors  0022100361   \n",
       "2     22021  1610612744               GSW  Golden State Warriors  0022100346   \n",
       "3     22021  1610612744               GSW  Golden State Warriors  0022100340   \n",
       "4     22021  1610612744               GSW  Golden State Warriors  0022100316   \n",
       "\n",
       "    GAME_DATE      MATCHUP WL  MIN  PTS  ...  FT_PCT  OREB  DREB   REB  AST  \\\n",
       "0  2021-12-08  GSW vs. POR  W  241  104  ...   0.774  10.0  37.0  47.0   22   \n",
       "1  2021-12-06  GSW vs. ORL  W  242  126  ...   0.690   7.0  36.0  43.0   28   \n",
       "2  2021-12-04  GSW vs. SAS  L  240  107  ...   0.667  11.0  34.0  45.0   26   \n",
       "3  2021-12-03  GSW vs. PHX  W  239  118  ...   0.750  11.0  40.0  51.0   30   \n",
       "4  2021-11-30    GSW @ PHX  L  240   96  ...   0.714  15.0  36.0  51.0   25   \n",
       "\n",
       "   STL  BLK  TOV  PF  PLUS_MINUS  \n",
       "0    9    3   15  19        10.0  \n",
       "1   15    2   15  19        31.0  \n",
       "2    6    2   12  18        -5.0  \n",
       "3   10    8   17  29        22.0  \n",
       "4    7    5   22  13        -8.0  \n",
       "\n",
       "[5 rows x 28 columns]"
      ]
     },
     "execution_count": 38,
     "metadata": {},
     "output_type": "execute_result"
    }
   ],
   "source": [
    "games = gamefinder.get_data_frames()[0]\n",
    "games.head()"
   ]
  },
  {
   "cell_type": "markdown",
   "metadata": {},
   "source": [
    "La columna de emparejamiento (match-up) tiene el equipo con el que jugaron los Warriors. GSW significa Golden State y TOR significa Toronto Raptors. Versus significa que fue un juego en casa, y el símbolo @ significa un juego fuera de casa. Podemos crear dos DataFrames, uno para los partidos en los que los Warriors se enfrentaron a los Raptors en casa, y el segundo para los partidos fuera de casa."
   ]
  },
  {
   "cell_type": "code",
   "execution_count": 39,
   "metadata": {},
   "outputs": [],
   "source": [
    "games_home = games[games['MATCHUP'] == 'GSW vs. TOR']\n",
    "games_away = games[games['MATCHUP'] == 'GSW @ TOR']"
   ]
  },
  {
   "cell_type": "markdown",
   "metadata": {},
   "source": [
    "Si vemos el DataFrame, podemos ver que contiene información sobre todos los juegos que los Warriors han jugado.\n",
    "La columna plus_minus contiene información sobre la puntuación. Si el valor es negativo, los Warriors perdieron por esa cantidad de puntos. Si el valor es positivo, los Warriors ganaron por esa cantidad de puntos. Podemos representar la columna plus_minus para ambos DataFrames."
   ]
  },
  {
   "cell_type": "code",
   "execution_count": 40,
   "metadata": {},
   "outputs": [
    {
     "data": {
      "image/png": "[encoded data removed]",
      "text/plain": [
       "<Figure size 432x288 with 1 Axes>"
      ]
     },
     "metadata": {
      "needs_background": "light"
     },
     "output_type": "display_data"
    }
   ],
   "source": [
    "fig, ax = plt.subplots()\n",
    "games_away.plot(x = 'GAME_DATE', y = 'PLUS_MINUS', ax=ax)\n",
    "games_home.plot(x = 'GAME_DATE', y = 'PLUS_MINUS', ax=ax)\n",
    "ax.legend(['away', 'home'])\n",
    "plt.show()"
   ]
  },
  {
   "cell_type": "markdown",
   "metadata": {},
   "source": [
    "Vemos que los Warriors jugaron mejor en casa."
   ]
  },
  {
   "cell_type": "code",
   "execution_count": null,
   "metadata": {},
   "outputs": [],
   "source": [
    "games.shape"
   ]
  },
  {
   "cell_type": "code",
   "execution_count": null,
   "metadata": {},
   "outputs": [],
   "source": [
    "games.tail()"
   ]
  },
  {
   "cell_type": "markdown",
   "metadata": {},
   "source": [
    "## APIs Segunda parte\n",
    "Transcribiremos un archivo de audio usando la API Text to Speech (texto a voz) de Watson. Luego traduciremos el texto a un nuevo idioma usando la API Language Translator (traductor de idiomas) de Watson. A continuación, proporcionamos una visión general de las claves API (API keys) y los puntos finales, Watson Speech to Text, y Watson Translate. Primero, revisaremos las claves API y los puntos finales. Éstos te darán acceso a la API."
   ]
  },
  {
   "cell_type": "markdown",
   "metadata": {},
   "source": [
    "Una clave API como forma de acceso a la API. Es un conjunto único de caracteres que la API utiliza para identificarte y autorizarte. Normalmente, tu primera llamada a la API incluye la clave API. Esto te permitirá acceder a la API. En muchas API, es posible que se te cobre por cada llamada. Por lo tanto, al igual que tu contraseña, debes mantener tu clave API en secreto. Un punto final es simplemente la ubicación del servicio. Se utiliza para encontrar la API en Internet al igual que una dirección web."
   ]
  },
  {
   "cell_type": "markdown",
   "metadata": {},
   "source": [
    "### Ahora, transcribiremos un archivo de audio usando la API Text to Speech de Watson. "
   ]
  },
  {
   "cell_type": "code",
   "execution_count": 2,
   "metadata": {},
   "outputs": [],
   "source": [
    "# Primero, importamos SpeechToTextV1 desde IBM Watson.\n",
    "\n",
    "from ibm_watson import SpeechToTextV1 "
   ]
  },
  {
   "cell_type": "markdown",
   "metadata": {},
   "source": [
    "<h3>Invocación de API de servicio de IBM Cloud</h3>"
   ]
  },
  {
   "cell_type": "markdown",
   "metadata": {},
   "source": [
    "<p>Para invocar un servicio de IBM Cloud® mediante una API, pase sus credenciales a la API del servicio para autenticar su identidad de usuario y su acceso para realizar acciones en el contexto del servicio.</p>\n",
    "<p>Puede identificar al emisor de la llamada de una de estas formas:</p>\n",
    "<ul>\n",
    "    <li>Señal de Identity and Access Management (IAM) de IBM Cloud</li>\n",
    "    <li>Clave de API de IBM Cloud o clave de API de ID de servicio</li>\n",
    "</ul>\n",
    "<p>Las claves de API de IBM Cloud, las claves de API de ID de servicio y las señales de IAM identifican de forma exclusiva la identidad del emisor de la llamada. La identidad del emisor de la llamada es un usuario o un ID de servicio de IBM Cloud que se ha creado en una cuenta de IBM Cloud.</p>\n",
    "<p>Las claves de API son credenciales que constan de una serie larga de caracteres o números aleatorios. Una identidad de IBM Cloud puede tener varias claves de API. Cada una de estas claves de API se puede gestionar de forma independiente, lo que significa que si solo su servicio utiliza esta clave de API, puede suprimir la clave de la API sin interferir en ningún otro componente.</p>\n",
    "<p>Puede utilizar las teclas de API para iniciar la sesión en la interfaz de línea de mandatos (CLI) de IBM Cloud o para generar señales de IAM. Aunque no se recomienda para uso de producción, también puede enviar claves de API a los servicios de IBM Cloud.</p>"
   ]
  },
  {
   "cell_type": "markdown",
   "metadata": {},
   "source": [
    "<h3>Cómo pasar una señal de IBM Cloud IAM para autenticarse con una API de servicio</h3>"
   ]
  },
  {
   "cell_type": "markdown",
   "metadata": {},
   "source": [
    "<p>Para recuperar una señal de acceso de IAM, primero el cliente de API debe invocar una API de IBM Cloud IAM para autenticarse y recuperar dicha señal. La forma recomendada para los clientes de API de servicio de IBM Cloud es utilizar una clave de API de IAM para obtener una señal de acceso de IBM Cloud. La señal de acceso de IAM, que se ha implementado como Señal web de JSON, se puede utilizar para varias invocaciones de servicios de IBM Cloud que aceptan señales de acceso de IAM como método de autenticación. Puesto que las señales de acceso de IAM están firmadas digitalmente con claves asimétricas, los servicios de IBM Cloud pueden validar una señal de acceso de IAM sin invocar ningún servicio externo. Esto mejora considerablemente el rendimiento de la invocación de una API.</p>"
   ]
  },
  {
   "cell_type": "markdown",
   "metadata": {},
   "source": [
    "<p>Se puede ver toda la informacion <a href='https://cloud.ibm.com/docs/account?topic=account-iamapikeysforservices&locale=es'>aqui</a></p>"
   ]
  },
  {
   "cell_type": "code",
   "execution_count": 3,
   "metadata": {},
   "outputs": [],
   "source": [
    "from ibm_cloud_sdk_core.authenticators import IAMAuthenticator"
   ]
  },
  {
   "cell_type": "markdown",
   "metadata": {},
   "source": [
    "El punto final (EndPoint) del servicio se basa en la ubicación de la instancia del servicio. Almacenamos la información en la variable url_s2t. Para saber qué URL usar, mira las credenciales del servicio."
   ]
  },
  {
   "cell_type": "code",
   "execution_count": 4,
   "metadata": {},
   "outputs": [],
   "source": [
    "url_s2t = 'https://api.us-south.speech-to-text.watson.cloud.ibm.com/instances/10cdb42a-5030-4134-9bd5-cd5fc5ea5a5d'"
   ]
  },
  {
   "cell_type": "markdown",
   "metadata": {},
   "source": [
    "<p>Necesitas una API KEY, puedes obtenerla <a href=\"https://cloud.ibm.com/services/speech-to-text/crn%3Av1%3Abluemix%3Apublic%3Aspeech-to-text%3Aus-south%3Aa%2Fb13cfb7fdd1a4d7480add4d9b3f2a8df%3A10cdb42a-5030-4134-9bd5-cd5fc5ea5a5d%3A%3A?paneId=manage\">Aquí </a>.</p>"
   ]
  },
  {
   "cell_type": "code",
   "execution_count": 5,
   "metadata": {},
   "outputs": [],
   "source": [
    "iam_apikey_s2t = 'arUNJd9c-WNU-MrmmzIi3i32bUqHIF_be36YxVkSGvIi'"
   ]
  },
  {
   "cell_type": "markdown",
   "metadata": {},
   "source": [
    "<p>Creas un <a href=\"http://watson-developer-cloud.github.io/python-sdk/v0.25.0/apis/watson_developer_cloud.speech_to_text_v1.html?utm_medium=Exinfluencer&utm_source=Exinfluencer&utm_content=000026UJ&utm_term=10006555&utm_id=NA-SkillsNetwork-Channel-SkillsNetworkCoursesIBMPY0101ESedX19802589-2021-01-01\">Objeto Speech To Text Adapter</a>. Los parámetros serán el endpoint de la API KEY</p>"
   ]
  },
  {
   "cell_type": "code",
   "execution_count": 6,
   "metadata": {},
   "outputs": [
    {
     "data": {
      "text/plain": [
       "<ibm_watson.speech_to_text_v1_adapter.SpeechToTextV1Adapter at 0x225c6e01b80>"
      ]
     },
     "execution_count": 6,
     "metadata": {},
     "output_type": "execute_result"
    }
   ],
   "source": [
    "authenticator = IAMAuthenticator(iam_apikey_s2t)\n",
    "s2t = SpeechToTextV1(authenticator=authenticator)\n",
    "s2t.set_service_url(url_s2t)\n",
    "s2t"
   ]
  },
  {
   "cell_type": "markdown",
   "metadata": {},
   "source": [
    " <p>Tenemos la ruta al archivo wav que queremos convertir en texto</p>"
   ]
  },
  {
   "cell_type": "code",
   "execution_count": 7,
   "metadata": {},
   "outputs": [],
   "source": [
    "filename = 'C:/Users/Moises Sira/Desktop/hello.wav'"
   ]
  },
  {
   "cell_type": "markdown",
   "metadata": {},
   "source": [
    "<p>Creamos el objeto <code>wav</code> con el archivo wav usando <code>open</code> ; configuramos <code>mode</code> a “rb”, esto es parecido al modo lectura y asegura que el archivo esta en modo binario. Usamos el método <code>recognize</code> que regresa el texto reconocido. El parámetro audio es el objeto <code>wav</code>, el parámetro <code>content_type</code> es el formato del archivo de audio.</p>"
   ]
  },
  {
   "cell_type": "code",
   "execution_count": 8,
   "metadata": {},
   "outputs": [],
   "source": [
    "with open(filename, 'rb') as wav:\n",
    "    response = s2t.recognize(audio = wav, content_type = 'audio/wav')"
   ]
  },
  {
   "cell_type": "markdown",
   "metadata": {},
   "source": [
    "Usamos el método recognize desde el objeto adaptador de voz a texto. Esto básicamente envía el archivo de audio al servicio Watson Speech to Text. El parámetro audio es el objeto file. El content_type es el formato del archivo de audio."
   ]
  },
  {
   "cell_type": "markdown",
   "metadata": {},
   "source": [
    "El atributo “result” contiene un diccionario que incluye la traducción:"
   ]
  },
  {
   "cell_type": "code",
   "execution_count": 15,
   "metadata": {},
   "outputs": [
    {
     "data": {
      "text/plain": [
       "{'result_index': 0,\n",
       " 'results': [{'final': True,\n",
       "   'alternatives': [{'transcript': \"hello I am Lisi's \", 'confidence': 0.68}]},\n",
       "  {'final': True,\n",
       "   'alternatives': [{'transcript': 'who are you ', 'confidence': 0.92}]}]}"
      ]
     },
     "execution_count": 15,
     "metadata": {},
     "output_type": "execute_result"
    }
   ],
   "source": [
    "response.result"
   ]
  },
  {
   "cell_type": "markdown",
   "metadata": {},
   "source": [
    "<p>El valor de la clave results tiene una lista que contiene un diccionario.</p>\n",
    "<p>Nos interesa la transcripción ('transcript') de la clave.</p>"
   ]
  },
  {
   "cell_type": "markdown",
   "metadata": {},
   "source": [
    "<p>Obtenemos el texto reconocido y los asignamos a la variable <code>recognized_text</code>:</p>"
   ]
  },
  {
   "cell_type": "code",
   "execution_count": 16,
   "metadata": {},
   "outputs": [
    {
     "data": {
      "text/plain": [
       "str"
      ]
     },
     "execution_count": 16,
     "metadata": {},
     "output_type": "execute_result"
    }
   ],
   "source": [
    "recognized_text = response.result['results'][0][\"alternatives\"][0][\"transcript\"] + response.result['results'][1]['alternatives'][0]['transcript']\n",
    "type(recognized_text)"
   ]
  },
  {
   "cell_type": "code",
   "execution_count": 17,
   "metadata": {},
   "outputs": [
    {
     "data": {
      "text/plain": [
       "\"hello I am Lisi's who are you \""
      ]
     },
     "execution_count": 17,
     "metadata": {},
     "output_type": "execute_result"
    }
   ],
   "source": [
    "recognized_text"
   ]
  },
  {
   "cell_type": "markdown",
   "metadata": {},
   "source": [
    "### Traductor de Idiomas\n",
    "<p>Primero importamos <code>LanguageTranslatorV3</code> desde ibm_watson. Para mas información sobre la API, por favor visita este <a href=\"https://cloud.ibm.com/apidocs/speech-to-text?utm_medium=Exinfluencer&utm_source=Exinfluencer&utm_content=000026UJ&utm_term=10006555&utm_id=NA-SkillsNetwork-Channel-SkillsNetworkCoursesIBMPY0101ESedX19802589-2021-01-01&code=python\">enlace</a></p>"
   ]
  },
  {
   "cell_type": "code",
   "execution_count": 9,
   "metadata": {},
   "outputs": [],
   "source": [
    "from ibm_watson import LanguageTranslatorV3"
   ]
  },
  {
   "cell_type": "markdown",
   "metadata": {},
   "source": [
    "El endpoint del servicio esta basado en la ubicación de la instancia, nosotros guardaremos la información en la URL. Para averiguar cual URL usar, revisa los permisos del servicio."
   ]
  },
  {
   "cell_type": "code",
   "execution_count": 10,
   "metadata": {},
   "outputs": [],
   "source": [
    "url_lt = 'https://api.us-south.language-translator.watson.cloud.ibm.com/instances/3644f9fc-38cd-450d-ad6f-4d22449a65de'"
   ]
  },
  {
   "cell_type": "markdown",
   "metadata": {},
   "source": [
    "<p>Necesitas una API KEY, puedes obtenerla <a href=\"https://cloud.ibm.com/resources?utm_medium=Exinfluencer&utm_source=Exinfluencer&utm_content=000026UJ&utm_term=10006555&utm_id=NA-SkillsNetwork-Channel-SkillsNetworkCoursesIBMPY0101ESedX19802589-2021-01-01\">Aquí </a>.</p>"
   ]
  },
  {
   "cell_type": "code",
   "execution_count": 11,
   "metadata": {},
   "outputs": [],
   "source": [
    "apikey_lt='V-QcunLDcFzQJ_VxohHanfOfmXKQaHulnkHUucIfmyzW'"
   ]
  },
  {
   "cell_type": "markdown",
   "metadata": {},
   "source": [
    "Las solicitudes a la API requieren un parámetro de la versión que tiene formato = YYYY-MM-DD. Este laboratorio trabaja con la versión actual de Language Translator, 2018-05-01"
   ]
  },
  {
   "cell_type": "code",
   "execution_count": 12,
   "metadata": {},
   "outputs": [],
   "source": [
    "version_lt='2018-05-01'"
   ]
  },
  {
   "cell_type": "markdown",
   "metadata": {},
   "source": [
    "<p>Creamos un objeto tipo Language Translator <code>language_translator</code>:</p>"
   ]
  },
  {
   "cell_type": "code",
   "execution_count": 13,
   "metadata": {},
   "outputs": [
    {
     "data": {
      "text/plain": [
       "<ibm_watson.language_translator_v3.LanguageTranslatorV3 at 0x225cc53fc10>"
      ]
     },
     "execution_count": 13,
     "metadata": {},
     "output_type": "execute_result"
    }
   ],
   "source": [
    "authenticator = IAMAuthenticator(apikey_lt)\n",
    "language_translator = LanguageTranslatorV3(version=version_lt,authenticator=authenticator)\n",
    "language_translator.set_service_url(url_lt)\n",
    "language_translator"
   ]
  },
  {
   "cell_type": "markdown",
   "metadata": {},
   "source": [
    "Podemos obtener una lista del idioma que el servicio puede identificar. El método regresa un código que identifica al idioma. Por ejemplo Inglés (en) a Spanish (es) y el nombre de cada idioma."
   ]
  },
  {
   "cell_type": "code",
   "execution_count": 14,
   "metadata": {},
   "outputs": [
    {
     "data": {
      "text/plain": [
       "{'languages': [{'language': 'af', 'name': 'Afrikaans'},\n",
       "  {'language': 'ar', 'name': 'Arabic'},\n",
       "  {'language': 'az', 'name': 'Azerbaijani'},\n",
       "  {'language': 'ba', 'name': 'Bashkir'},\n",
       "  {'language': 'be', 'name': 'Belarusian'},\n",
       "  {'language': 'bg', 'name': 'Bulgarian'},\n",
       "  {'language': 'bn', 'name': 'Bengali'},\n",
       "  {'language': 'ca', 'name': 'Catalan'},\n",
       "  {'language': 'cs', 'name': 'Czech'},\n",
       "  {'language': 'cv', 'name': 'Chuvash'},\n",
       "  {'language': 'cy', 'name': 'Welsh'},\n",
       "  {'language': 'da', 'name': 'Danish'},\n",
       "  {'language': 'de', 'name': 'German'},\n",
       "  {'language': 'el', 'name': 'Greek'},\n",
       "  {'language': 'en', 'name': 'English'},\n",
       "  {'language': 'eo', 'name': 'Esperanto'},\n",
       "  {'language': 'es', 'name': 'Spanish'},\n",
       "  {'language': 'et', 'name': 'Estonian'},\n",
       "  {'language': 'eu', 'name': 'Basque'},\n",
       "  {'language': 'fa', 'name': 'Persian'},\n",
       "  {'language': 'fi', 'name': 'Finnish'},\n",
       "  {'language': 'fr', 'name': 'French'},\n",
       "  {'language': 'ga', 'name': 'Irish'},\n",
       "  {'language': 'gu', 'name': 'Gujarati'},\n",
       "  {'language': 'he', 'name': 'Hebrew'},\n",
       "  {'language': 'hi', 'name': 'Hindi'},\n",
       "  {'language': 'hr', 'name': 'Croatian'},\n",
       "  {'language': 'ht', 'name': 'Haitian'},\n",
       "  {'language': 'hu', 'name': 'Hungarian'},\n",
       "  {'language': 'hy', 'name': 'Armenian'},\n",
       "  {'language': 'is', 'name': 'Icelandic'},\n",
       "  {'language': 'it', 'name': 'Italian'},\n",
       "  {'language': 'ja', 'name': 'Japanese'},\n",
       "  {'language': 'ka', 'name': 'Georgian'},\n",
       "  {'language': 'kk', 'name': 'Kazakh'},\n",
       "  {'language': 'km', 'name': 'Central Khmer'},\n",
       "  {'language': 'ko', 'name': 'Korean'},\n",
       "  {'language': 'ku', 'name': 'Kurdish'},\n",
       "  {'language': 'ky', 'name': 'Kirghiz'},\n",
       "  {'language': 'lo', 'name': 'Lao'},\n",
       "  {'language': 'lt', 'name': 'Lithuanian'},\n",
       "  {'language': 'lv', 'name': 'Latvian'},\n",
       "  {'language': 'ml', 'name': 'Malayalam'},\n",
       "  {'language': 'mn', 'name': 'Mongolian'},\n",
       "  {'language': 'mr', 'name': 'Marathi'},\n",
       "  {'language': 'ms', 'name': 'Malay'},\n",
       "  {'language': 'mt', 'name': 'Maltese'},\n",
       "  {'language': 'my', 'name': 'Burmese'},\n",
       "  {'language': 'nb', 'name': 'Norwegian Bokmal'},\n",
       "  {'language': 'ne', 'name': 'Nepali'},\n",
       "  {'language': 'nl', 'name': 'Dutch'},\n",
       "  {'language': 'nn', 'name': 'Norwegian Nynorsk'},\n",
       "  {'language': 'pa', 'name': 'Punjabi'},\n",
       "  {'language': 'pa-PK', 'name': 'Punjabi (Shahmukhi script, Pakistan)'},\n",
       "  {'language': 'pl', 'name': 'Polish'},\n",
       "  {'language': 'ps', 'name': 'Pushto'},\n",
       "  {'language': 'pt', 'name': 'Portuguese'},\n",
       "  {'language': 'ro', 'name': 'Romanian'},\n",
       "  {'language': 'ru', 'name': 'Russian'},\n",
       "  {'language': 'si', 'name': 'Sinhala'},\n",
       "  {'language': 'sk', 'name': 'Slovakian'},\n",
       "  {'language': 'sl', 'name': 'Slovenian'},\n",
       "  {'language': 'so', 'name': 'Somali'},\n",
       "  {'language': 'sq', 'name': 'Albanian'},\n",
       "  {'language': 'sr', 'name': 'Serbian'},\n",
       "  {'language': 'sv', 'name': 'Swedish'},\n",
       "  {'language': 'ta', 'name': 'Tamil'},\n",
       "  {'language': 'te', 'name': 'Telugu'},\n",
       "  {'language': 'th', 'name': 'Thai'},\n",
       "  {'language': 'tl', 'name': 'Tagalog'},\n",
       "  {'language': 'tr', 'name': 'Turkish'},\n",
       "  {'language': 'uk', 'name': 'Ukrainian'},\n",
       "  {'language': 'ur', 'name': 'Urdu'},\n",
       "  {'language': 'vi', 'name': 'Vietnamese'},\n",
       "  {'language': 'zh', 'name': 'Simplified Chinese'},\n",
       "  {'language': 'zh-TW', 'name': 'Traditional Chinese'}]}"
      ]
     },
     "execution_count": 14,
     "metadata": {},
     "output_type": "execute_result"
    }
   ],
   "source": [
    "language_translator.list_identifiable_languages().get_result()"
   ]
  },
  {
   "cell_type": "markdown",
   "metadata": {},
   "source": [
    "<p>Podemos usar le método <code>translate</code> para que traduzca el texto. El parámetro text será el texto. Model_id es el tipo de modelo que nos gustaría usar. En este caso, lo configuraremos para ‘en-es’ o Inglés a Español. Obtendremos un objeto tipo Detailed Response <code>translation_response</code>.</p>"
   ]
  },
  {
   "cell_type": "code",
   "execution_count": 18,
   "metadata": {},
   "outputs": [
    {
     "data": {
      "text/plain": [
       "<ibm_cloud_sdk_core.detailed_response.DetailedResponse at 0x225cb5f7970>"
      ]
     },
     "execution_count": 18,
     "metadata": {},
     "output_type": "execute_result"
    }
   ],
   "source": [
    "translation_response = language_translator.translate(text=recognized_text, model_id='en-es')\n",
    "translation_response"
   ]
  },
  {
   "cell_type": "markdown",
   "metadata": {},
   "source": [
    "Usamos el método get_result para obtener el texto traducido y asignarlo a la variable translation. El resultado es un diccionario que incluye el número de palabras de la traducción y el número de caracteres."
   ]
  },
  {
   "cell_type": "code",
   "execution_count": 19,
   "metadata": {},
   "outputs": [
    {
     "data": {
      "text/plain": [
       "{'translations': [{'translation': 'hola soy Lisi que eres tú '}],\n",
       " 'word_count': 8,\n",
       " 'character_count': 30}"
      ]
     },
     "execution_count": 19,
     "metadata": {},
     "output_type": "execute_result"
    }
   ],
   "source": [
    "translation=translation_response.get_result()\n",
    "translation"
   ]
  },
  {
   "cell_type": "markdown",
   "metadata": {},
   "source": [
    "Podemos obtener la traducción como tipo cadena de la siguiente manera:"
   ]
  },
  {
   "cell_type": "code",
   "execution_count": 20,
   "metadata": {},
   "outputs": [
    {
     "data": {
      "text/plain": [
       "'hola soy Lisi que eres tú '"
      ]
     },
     "execution_count": 20,
     "metadata": {},
     "output_type": "execute_result"
    }
   ],
   "source": [
    "spanish_translation =translation['translations'][0]['translation']\n",
    "spanish_translation"
   ]
  },
  {
   "cell_type": "markdown",
   "metadata": {},
   "source": [
    "Podemos traducir de regreso al idioma inglés."
   ]
  },
  {
   "cell_type": "code",
   "execution_count": 21,
   "metadata": {},
   "outputs": [],
   "source": [
    "translation_new = language_translator.translate(text=spanish_translation ,model_id='es-en').get_result()"
   ]
  },
  {
   "cell_type": "markdown",
   "metadata": {},
   "source": [
    "Podemos obtener la traducción como tipo cadena de la siguiente manera:"
   ]
  },
  {
   "cell_type": "code",
   "execution_count": 22,
   "metadata": {},
   "outputs": [
    {
     "data": {
      "text/plain": [
       "\"hi I'm Lisi that you are your \""
      ]
     },
     "execution_count": 22,
     "metadata": {},
     "output_type": "execute_result"
    }
   ],
   "source": [
    "translation_eng=translation_new['translations'][0]['translation']\n",
    "translation_eng"
   ]
  },
  {
   "cell_type": "markdown",
   "metadata": {},
   "source": [
    "Podemos traducirlo al idioma frances también:"
   ]
  },
  {
   "cell_type": "code",
   "execution_count": 23,
   "metadata": {},
   "outputs": [
    {
     "data": {
      "text/plain": [
       "\"Hi I'm Lisi que vous êtes votre \""
      ]
     },
     "execution_count": 23,
     "metadata": {},
     "output_type": "execute_result"
    }
   ],
   "source": [
    "French_translation=language_translator.translate(text=translation_eng , model_id='en-fr').get_result()\n",
    "French_translation['translations'][0]['translation']"
   ]
  },
  {
   "cell_type": "code",
   "execution_count": null,
   "metadata": {},
   "outputs": [],
   "source": []
  }
 ],
 "metadata": {
  "kernelspec": {
   "display_name": "Python 3 (ipykernel)",
   "language": "python",
   "name": "python3"
  },
  "language_info": {
   "codemirror_mode": {
    "name": "ipython",
    "version": 3
   },
   "file_extension": ".py",
   "mimetype": "text/x-python",
   "name": "python",
   "nbconvert_exporter": "python",
   "pygments_lexer": "ipython3",
   "version": "3.9.7"
  }
 },
 "nbformat": 4,
 "nbformat_minor": 4
}
