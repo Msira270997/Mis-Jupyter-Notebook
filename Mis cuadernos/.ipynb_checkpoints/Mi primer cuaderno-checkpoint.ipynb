{
 "cells": [
  {
   "cell_type": "markdown",
   "id": "77ba1627",
   "metadata": {},
   "source": [
    "# Practicando condicional IF\n",
    "## Ejercicio 1\n",
    "Los alumnos de un curso se han dividido en dos grupos A y B de acuerdo al sexo y el nombre. El grupo A esta formado por las mujeres con un nombre anterior a la M y los hombres con un nombre posterior a la N y el grupo B por el resto. Escribir un programa que pregunte al usuario su nombre y sexo, y muestre por pantalla el grupo que le corresponde."
   ]
  },
  {
   "cell_type": "code",
   "execution_count": null,
   "id": "cde37e50",
   "metadata": {},
   "outputs": [],
   "source": [
    "nombre = input(\"Diga su nombre: \")\n",
    "sexo = input(\"Diga su sexo (F o M): \")\n",
    "\n",
    "if sexo.lower()==\"f\" :\n",
    "    if nombre.lower()<\"m\":\n",
    "        grupo= \"A\"\n",
    "    else:\n",
    "        grupo=\"B\"\n",
    "elif sexo.lower()==\"m\":\n",
    "    if nombre.lower()>=\"n\":\n",
    "        grupo=\"A\"\n",
    "    else:\n",
    "        grupo=\"B\"\n",
    "print(nombre + \" pertenece al grupo \" + grupo)"
   ]
  },
  {
   "cell_type": "markdown",
   "id": "a53276c6",
   "metadata": {},
   "source": [
    "### Mismo ejercicio de otra manera"
   ]
  },
  {
   "cell_type": "code",
   "execution_count": null,
   "id": "e57bf738",
   "metadata": {},
   "outputs": [],
   "source": [
    "nombre = input(\"Diga su nombre: \")\n",
    "sexo = input(\"Diga su sexo (F o M): \")\n",
    "\n",
    "if (sexo.lower()==\"f\" and nombre.lower()<\"m\") or (sexo.lower()==\"m\" and nombre.lower()>=\"n\"):\n",
    "    grupo=\"A\"\n",
    "else:\n",
    "    grupo=\"B\"\n",
    "print(nombre + \" pertenece al grupo \" + grupo)"
   ]
  },
  {
   "cell_type": "markdown",
   "id": "8516d35b",
   "metadata": {},
   "source": [
    "## Ejercicio 2\n",
    "Escribir un programa para una empresa que tiene salas de juegos para todas las edades y quiere calcular de forma automática el precio que debe cobrar a sus clientes por entrar. El programa debe preguntar al usuario la edad del cliente y mostrar el precio de la entrada. Si el cliente es menor de 4 años puede entrar gratis, si tiene entre 4 y 18 años debe pagar 5€ y si es mayor de 18 años, 10€."
   ]
  },
  {
   "cell_type": "code",
   "execution_count": null,
   "id": "df03b5d0",
   "metadata": {},
   "outputs": [],
   "source": [
    "edad=int(input(\"Diga su edad: \"))\n",
    "\n",
    "if (edad<4):\n",
    "    precio=\"0\"\n",
    "elif (4<=edad<=18):\n",
    "    precio=\"5$\"\n",
    "else:\n",
    "    precio=\"10$\"\n",
    "print(\"Su entrada cuesta \" + precio)"
   ]
  },
  {
   "cell_type": "markdown",
   "id": "702a3484",
   "metadata": {},
   "source": [
    "### Ejercicio 3\n",
    "La pizzería Bella Napoli ofrece pizzas vegetarianas y no vegetarianas a sus clientes. Los ingredientes para cada tipo de pizza aparecen a continuación.\n",
    "\n",
    "-Ingredientes vegetarianos: Pimiento y tofu.\n",
    "-Ingredientes no vegetarianos: Peperoni, Jamón y Salmón.\n",
    "\n",
    "Escribir un programa que pregunte al usuario si quiere una pizza vegetariana o no, y en función de su respuesta le muestre un menú con los ingredientes disponibles para que elija. Solo se puede eligir un ingrediente además de la mozzarella y el tomate que están en todas la pizzas. Al final se debe mostrar por pantalla si la pizza elegida es vegetariana o no y todos los ingredientes que lleva."
   ]
  },
  {
   "cell_type": "code",
   "execution_count": null,
   "id": "fbad0935",
   "metadata": {},
   "outputs": [],
   "source": [
    "ingredientes_vegetarianos = [\"Pimiento\", \"Tofu\"]\n",
    "ingredientes_no_vegetarianos = [\"Peperoni\",\"Jamon\",\"Salmon\"]\n",
    "pizza = input(\"¿Quiere una pizza vegetariana? (Si o No)\")\n",
    "\n",
    "if (pizza.lower()==\"si\"):\n",
    "    print(\"Los ingredientes disponibles para su pizza son:\\n1) \" + ingredientes_vegetarianos[0] + \"\\n2) \" + ingredientes_vegetarianos[1])\n",
    "    ingrediente=int(input(\"Seleccione uno de los ingredientes: \"))\n",
    "    ingrediente=ingrediente-1\n",
    "    print(\"Pizza vegetariana con Mozzarella, Tomate y \" + ingredientes_vegetarianos[ingrediente])\n",
    "else:\n",
    "    print(\"Los ingredientes disponibles para su pizza son:\\n1) \" + ingredientes_no_vegetarianos[0] + \"\\n2) \" + ingredientes_no_vegetarianos[1] + \"\\n3) \" + ingredientes_no_vegetarianos[2])\n",
    "    ingrediente=int(input(\"Seleccione uno de los ingredientes: \"))\n",
    "    ingrediente=ingrediente-1\n",
    "    print(\"Pizza no vegetariana con Mozzarella, Tomate y \" + ingredientes_no_vegetarianos[ingrediente])"
   ]
  },
  {
   "cell_type": "markdown",
   "id": "e08e533d",
   "metadata": {},
   "source": [
    "# Bucle FOR\n",
    "### Ejercicio 1\n",
    "Escribir un programa que pregunte al usuario una cantidad a invertir, el interés anual y el número de años, y muestre por pantalla el capital obtenido en la inversión cada año que dura la inversión.\n",
    "\n",
    "**NOTA:** La función incorporada ***round()*** toma como argumento un número de coma flotante y retorna un número entero según las reglas del redondeo. Un ***segundo argumento*** indica la cantidad de dígitos después del punto respecto de la cual se debe realizar la aproximación."
   ]
  },
  {
   "cell_type": "code",
   "execution_count": null,
   "id": "559a2070",
   "metadata": {},
   "outputs": [],
   "source": [
    "capital = float(input(\"Diga cuanto va a invertir: \"))\n",
    "interes = float(input(\"Cual es el interes por año: \"))\n",
    "tiempo = int(input(\"Cuantos años: \"))\n",
    "\n",
    "for i in range(tiempo):\n",
    "    capital= capital + (capital*interes)/100\n",
    "    print(\"Capital por \" + str(i+1) + \"años: \" + str(round(capital,2)))"
   ]
  },
  {
   "cell_type": "markdown",
   "id": "961db7af",
   "metadata": {},
   "source": [
    "# Ejercicio 2\n",
    "Escribir un programa que pida al usuario un número entero y muestre por pantalla un triángulo rectángulo como el de más abajo, de altura el número introducido (En vez de puntos usar *).\n",
    ".\n",
    "..\n",
    "...\n",
    "....\n",
    "....."
   ]
  },
  {
   "cell_type": "code",
   "execution_count": null,
   "id": "def40036",
   "metadata": {},
   "outputs": [],
   "source": [
    "h = int(input(\"Diga la altura del triangulo: \"))\n",
    "\n",
    "for i in range(h):\n",
    "    print((i+1)*\"*\")"
   ]
  },
  {
   "cell_type": "markdown",
   "id": "5f3fce2b",
   "metadata": {},
   "source": [
    "# Ejercicio 3\n",
    "Escribir un programa que pida al usuario un número entero y muestre por pantalla un triángulo rectángulo como el de más abajo."
   ]
  },
  {
   "cell_type": "code",
   "execution_count": null,
   "id": "182fbdfc",
   "metadata": {},
   "outputs": [],
   "source": [
    "#MI RESPUESTA\n",
    "import math\n",
    "\n",
    "numero = int(input(\"Diga un numero: \"))\n",
    "altura = math.floor(numero/2 + 1)\n",
    "triangulo = []\n",
    "\n",
    "for contador in range(numero,-1,-2):\n",
    "    triangulo.append(contador)\n",
    "\n",
    "for restador in range(-1,-altura-1,-1):\n",
    "    for selector in range(restador,0,1):\n",
    "        print(triangulo[selector], end=\" \")\n",
    "    print(\"\")\n",
    "\n",
    "#RESPUESTA DE LA PAGINA\n",
    "n = int(input(\"Introduce la altura del triángulo (entero positivo): \"))\n",
    "for i in range(1, n+1, 2):\n",
    "    for j in range(i, 0, -2):\n",
    "        print(j, end=\" \")\n",
    "    print(\"\")"
   ]
  },
  {
   "cell_type": "markdown",
   "id": "b1d751c8",
   "metadata": {},
   "source": [
    "# Ejercicio 4\n",
    "Copia de una calculadora de cryptomines"
   ]
  },
  {
   "cell_type": "code",
   "execution_count": null,
   "id": "dde97db2",
   "metadata": {},
   "outputs": [],
   "source": [
    "naves = []\n",
    "workers = []\n",
    "mpw = []\n",
    "contratos = float(0.0657)\n",
    "expedicion = float(0.6)\n",
    "eternal = float(30.33)\n",
    "flota = []\n",
    "i_flota = 0\n",
    "i_total = 0\n",
    "\n",
    "print(\"Introduzca el precio de las naves: \")\n",
    "print()\n",
    "\n",
    "for nivel in range(5):\n",
    "    naves.append(float(input(f\"Nivel {nivel+1}: \")))\n",
    "print()\n",
    "    \n",
    "print(\"Introduzca el precio y MP de los trabajadores: \")\n",
    "print()\n",
    "\n",
    "for nivel in range(5):\n",
    "    workers.append(float(input(f\"Nivel {nivel+1}: Precio: \")))\n",
    "    mpw.append(int(input(f\"Mp : \")))\n",
    "print()\n",
    "\n",
    "if (naves[0]*2>=naves[1]):\n",
    "    flota.append(naves[1])\n",
    "else:\n",
    "    flota.append(naves[0]*2)\n",
    "flota.append(workers[1]*2)\n",
    "\n",
    "i_flota = sum(flota)\n",
    "i_total = (i_flota + contratos + expedicion)*eternal\n",
    "print(i_flota*eternal,\"$\")\n",
    "print(i_total,\"$\")"
   ]
  },
  {
   "cell_type": "markdown",
   "id": "eca0b8bc",
   "metadata": {},
   "source": [
    "# Archivos externos con la funcion open()\n",
    "En la funcion open el primer parametro es el nombre y ubicacion del archivo\n",
    "El segundo parametro es para leer o escribir en el archivo: w=escribir, r=leer, a=agregar, r+=leer y escribir"
   ]
  },
  {
   "cell_type": "code",
   "execution_count": 3,
   "id": "5a47a428",
   "metadata": {},
   "outputs": [
    {
     "name": "stdout",
     "output_type": "stream",
     "text": [
      "C:/Users/Moises Sira/desktop/Ejemplo.txt\n",
      "w\n",
      "['Mi primer archivo \\n', 'en python\\n', 'hay que practicar para perfeccionar la tecnica']\n"
     ]
    }
   ],
   "source": [
    "with open(\"C:/Users/Moises Sira/desktop/Ejemplo.txt\",\"w\") as archivo_texto:\n",
    "    texto=\"Mi primer archivo \\nen python\"\n",
    "    archivo_texto.write(texto)\n",
    "print(archivo_texto.name)\n",
    "print(archivo_texto.mode)\n",
    "\n",
    "archivo_texto=open(\"C:/Users/Moises Sira/desktop/Ejemplo.txt\",\"a\")\n",
    "archivo_texto.write(\"\\nhay que practicar para perfeccionar la tecnica\")\n",
    "archivo_texto.close()\n",
    "\n",
    "archivo_texto=open(\"C:/Users/Moises Sira/desktop/Ejemplo.txt\",\"r\")\n",
    "lineas_texto=archivo_texto.readlines()\n",
    "archivo_texto.close()\n",
    "print(lineas_texto)"
   ]
  },
  {
   "cell_type": "markdown",
   "id": "c9f6651f",
   "metadata": {},
   "source": [
    "### Como copiar un archivo"
   ]
  },
  {
   "cell_type": "code",
   "execution_count": 4,
   "id": "35abec2a",
   "metadata": {},
   "outputs": [],
   "source": [
    "with open(\"C:/Users/Moises Sira/desktop/Ejemplo.txt\",\"r\") as archivo_texto:\n",
    "    with open(\"C:/Users/Moises Sira/desktop/Ejemplo2.txt\",\"w\") as archivo_copia:\n",
    "        for i in archivo_texto:\n",
    "            archivo_copia.write(i)"
   ]
  },
  {
   "cell_type": "markdown",
   "id": "5712786f",
   "metadata": {},
   "source": [
    "# Libreria Pandas\n",
    "## Cargando datos con Pandas\n",
    "Digamos que queremos cargar un archivo CSV usando la función incorporada de Pandas, read_csv.\n",
    "\n",
    "    csv_path=\"archivo_csv.csv\"\n",
    "    df=pd.read_csv(csv_path)"
   ]
  },
  {
   "cell_type": "markdown",
   "id": "a0c5ed85",
   "metadata": {},
   "source": [
    "## Data frames\n",
    "Una forma en la que Pandas permite trabajar con datos es con data frame (marco de datos).\n",
    "\n",
    "### Como pasar de un archivo csv y exel a un data frame \n",
    "    csv_path=\"Archivo_csv.csv\" --> Esta variable almacena la ruta del csv y se utiliza como argumento de la funcion read_csv\n",
    "    df=pd.read_csv(csv_path) --> El resultado se almacena en la  variable df (data frame)\n",
    "\n",
    "Ahora que tenemos los datos en un data frame, podemos trabajar con ellos. Podemos usar el método \"head\" para examinar las primeras cinco filas de un marco de datos o la funcion \"tail\" para examinar las ultimas cinco filas. Dentro de los parametros podemos especificar el numero de filas a examinar, ejemplo df.tail(10) examina las ultimas 10 filas.\n",
    "\n",
    "    df.head() --> Examina las primeras 5 filas\n",
    "    df.tail() --> Examina las ultimas 5 filas\n",
    "    \n",
    "El proceso para cargar un archivo de Excel es similar.\n",
    "    \n",
    "    xlsx_path=\"Archivo_xlsx.xlsx\" --> Usamos la ruta del archivo de Excel.\n",
    "    df=pd.read_exel(xlsx_path) --> La función lee Excel. El resultado es un marco de datos.\n",
    "    df.head()"
   ]
  },
  {
   "cell_type": "markdown",
   "id": "013fe3e1",
   "metadata": {},
   "source": [
    "### Data frame con diccionarios\n",
    "Un data frame está compuesto de filas y columnas. Podemos crear un data frame a partir de un diccionario. Las claves corresponden a las etiquetas de las columnas. Los valores o listas corresponden a las filas.\n",
    "\n",
    "    A continuación, convertimos el diccionario en un data frame utilizando la función DataFrame.\n",
    "    Songs: Canciones\n",
    "    Released: Publicado\n",
    "    Length: Largo, longitud, duracion"
   ]
  },
  {
   "cell_type": "code",
   "execution_count": 1,
   "id": "7be544c4",
   "metadata": {},
   "outputs": [
    {
     "data": {
      "text/html": [
       "<div>\n",
       "<style scoped>\n",
       "    .dataframe tbody tr th:only-of-type {\n",
       "        vertical-align: middle;\n",
       "    }\n",
       "\n",
       "    .dataframe tbody tr th {\n",
       "        vertical-align: top;\n",
       "    }\n",
       "\n",
       "    .dataframe thead th {\n",
       "        text-align: right;\n",
       "    }\n",
       "</style>\n",
       "<table border=\"1\" class=\"dataframe\">\n",
       "  <thead>\n",
       "    <tr style=\"text-align: right;\">\n",
       "      <th></th>\n",
       "      <th>Albun</th>\n",
       "      <th>Released</th>\n",
       "      <th>Length</th>\n",
       "    </tr>\n",
       "  </thead>\n",
       "  <tbody>\n",
       "    <tr>\n",
       "      <th>0</th>\n",
       "      <td>Thriller</td>\n",
       "      <td>1982</td>\n",
       "      <td>00:42:19</td>\n",
       "    </tr>\n",
       "    <tr>\n",
       "      <th>1</th>\n",
       "      <td>Black in black</td>\n",
       "      <td>1980</td>\n",
       "      <td>00:42:11</td>\n",
       "    </tr>\n",
       "    <tr>\n",
       "      <th>2</th>\n",
       "      <td>The dark side on the moon</td>\n",
       "      <td>1973</td>\n",
       "      <td>00:42:49</td>\n",
       "    </tr>\n",
       "    <tr>\n",
       "      <th>3</th>\n",
       "      <td>The Bodyguard</td>\n",
       "      <td>1992</td>\n",
       "      <td>00:57:44</td>\n",
       "    </tr>\n",
       "    <tr>\n",
       "      <th>4</th>\n",
       "      <td>Bat out of hell</td>\n",
       "      <td>1977</td>\n",
       "      <td>00:46:33</td>\n",
       "    </tr>\n",
       "  </tbody>\n",
       "</table>\n",
       "</div>"
      ],
      "text/plain": [
       "                       Albun Released    Length\n",
       "0                   Thriller     1982  00:42:19\n",
       "1             Black in black     1980  00:42:11\n",
       "2  The dark side on the moon     1973  00:42:49\n",
       "3              The Bodyguard     1992  00:57:44\n",
       "4            Bat out of hell     1977  00:46:33"
      ]
     },
     "execution_count": 1,
     "metadata": {},
     "output_type": "execute_result"
    }
   ],
   "source": [
    "import pandas as pd\n",
    "\n",
    "songs = {\"Albun\":[\"Thriller\",\"Black in black\",\"The dark side on the moon\",\\\n",
    "                  \"The Bodyguard\",\"Bat out of hell\"],\\\n",
    "         \"Released\":[\"1982\",\"1980\",\"1973\",\"1992\",\"1977\"],\\\n",
    "         \"Length\":[\"00:42:19\",\"00:42:11\",\"00:42:49\",\"00:57:44\",\"00:46:33\"]}\n",
    "\n",
    "songs_frame = pd.DataFrame(songs)\n",
    "songs_frame"
   ]
  },
  {
   "cell_type": "markdown",
   "id": "ac2a8ab9",
   "metadata": {},
   "source": [
    "Podemos ver la correspondencia directa con la tabla. Las claves corresponden a los encabezados de la tabla. Los valores son listas correspondientes a las filas."
   ]
  },
  {
   "cell_type": "markdown",
   "id": "0308f29e",
   "metadata": {},
   "source": [
    "Podemos crear un nuevo data frame que consiste en una columna.\n",
    "    \n",
    "    Sólo ponemos el nombre del fata frame, en este caso, df, y el nombre de la cabecera de la columna entre corchetes dobles.\n",
    "        x=df[[\"Length\"]]\n",
    "    El resultado es un nuevo data frame compuesto por la columna original.\n",
    "    \n",
    "Puedes hacer lo mismo para múltiples columnas.\n",
    "    \n",
    "    Sólo ponemos el nombre del data frame, en este caso, df, y el nombre de las cabeceras de las múltiples columnas entre\n",
    "    dobles corchetes.\n",
    "        y=df[[\"Artist\",\"Length\",\"Genre\"]]\n",
    "    El resultado es un nuevo marco de datos compuesto por las columnas especificadas.\n",
    "    \n",
    "Una forma de acceder a los elementos únicos es el método \"iloc\".\n",
    "\n",
    "    Se puede acceder a la primera fila y a la primera columna de la siguiente manera."
   ]
  },
  {
   "cell_type": "code",
   "execution_count": 10,
   "id": "544706f8",
   "metadata": {},
   "outputs": [
    {
     "data": {
      "text/plain": [
       "'Thriller'"
      ]
     },
     "execution_count": 10,
     "metadata": {},
     "output_type": "execute_result"
    }
   ],
   "source": [
    "songs_frame.iloc[0,0]"
   ]
  },
  {
   "cell_type": "code",
   "execution_count": 2,
   "id": "181c7a79",
   "metadata": {},
   "outputs": [
    {
     "data": {
      "text/html": [
       "<div>\n",
       "<style scoped>\n",
       "    .dataframe tbody tr th:only-of-type {\n",
       "        vertical-align: middle;\n",
       "    }\n",
       "\n",
       "    .dataframe tbody tr th {\n",
       "        vertical-align: top;\n",
       "    }\n",
       "\n",
       "    .dataframe thead th {\n",
       "        text-align: right;\n",
       "    }\n",
       "</style>\n",
       "<table border=\"1\" class=\"dataframe\">\n",
       "  <thead>\n",
       "    <tr style=\"text-align: right;\">\n",
       "      <th></th>\n",
       "      <th>a</th>\n",
       "      <th>b</th>\n",
       "    </tr>\n",
       "  </thead>\n",
       "  <tbody>\n",
       "    <tr>\n",
       "      <th>0</th>\n",
       "      <td>1</td>\n",
       "      <td>1</td>\n",
       "    </tr>\n",
       "    <tr>\n",
       "      <th>1</th>\n",
       "      <td>2</td>\n",
       "      <td>1</td>\n",
       "    </tr>\n",
       "    <tr>\n",
       "      <th>2</th>\n",
       "      <td>1</td>\n",
       "      <td>1</td>\n",
       "    </tr>\n",
       "  </tbody>\n",
       "</table>\n",
       "</div>"
      ],
      "text/plain": [
       "   a  b\n",
       "0  1  1\n",
       "1  2  1\n",
       "2  1  1"
      ]
     },
     "execution_count": 2,
     "metadata": {},
     "output_type": "execute_result"
    }
   ],
   "source": [
    "df = pd.DataFrame({'a':[1,2,1], 'b':[1,1,1]})\n",
    "df"
   ]
  },
  {
   "cell_type": "code",
   "execution_count": 4,
   "id": "b27dd2e6",
   "metadata": {},
   "outputs": [
    {
     "data": {
      "text/plain": [
       "0    True\n",
       "1    True\n",
       "2    True\n",
       "Name: b, dtype: bool"
      ]
     },
     "execution_count": 4,
     "metadata": {},
     "output_type": "execute_result"
    }
   ],
   "source": [
    "df['b']==1"
   ]
  },
  {
   "cell_type": "markdown",
   "id": "803af6ec",
   "metadata": {},
   "source": [
    "# Examen final del curso"
   ]
  },
  {
   "cell_type": "code",
   "execution_count": 1,
   "id": "f05b210d",
   "metadata": {},
   "outputs": [
    {
     "data": {
      "text/plain": [
       "'246'"
      ]
     },
     "execution_count": 1,
     "metadata": {},
     "output_type": "execute_result"
    }
   ],
   "source": [
    "A = '1234567'\n",
    "A[1::2]"
   ]
  },
  {
   "cell_type": "code",
   "execution_count": 3,
   "id": "77a1dd7f",
   "metadata": {},
   "outputs": [
    {
     "data": {
      "text/plain": [
       "3"
      ]
     },
     "execution_count": 3,
     "metadata": {},
     "output_type": "execute_result"
    }
   ],
   "source": [
    "A.find('4')"
   ]
  },
  {
   "cell_type": "code",
   "execution_count": 4,
   "id": "5151c1d2",
   "metadata": {},
   "outputs": [
    {
     "data": {
      "text/plain": [
       "['1', '2', '3', '4']"
      ]
     },
     "execution_count": 4,
     "metadata": {},
     "output_type": "execute_result"
    }
   ],
   "source": [
    "'1,2,3,4'.split(',')"
   ]
  },
  {
   "cell_type": "code",
   "execution_count": 7,
   "id": "6837e473",
   "metadata": {},
   "outputs": [
    {
     "data": {
      "text/plain": [
       "['H', 'la']"
      ]
     },
     "execution_count": 7,
     "metadata": {},
     "output_type": "execute_result"
    }
   ],
   "source": [
    "'Hola'.split('o')"
   ]
  },
  {
   "cell_type": "code",
   "execution_count": null,
   "id": "321b41ab",
   "metadata": {},
   "outputs": [],
   "source": []
  }
 ],
 "metadata": {
  "kernelspec": {
   "display_name": "Python 3 (ipykernel)",
   "language": "python",
   "name": "python3"
  },
  "language_info": {
   "codemirror_mode": {
    "name": "ipython",
    "version": 3
   },
   "file_extension": ".py",
   "mimetype": "text/x-python",
   "name": "python",
   "nbconvert_exporter": "python",
   "pygments_lexer": "ipython3",
   "version": "3.9.5"
  }
 },
 "nbformat": 4,
 "nbformat_minor": 5
}
